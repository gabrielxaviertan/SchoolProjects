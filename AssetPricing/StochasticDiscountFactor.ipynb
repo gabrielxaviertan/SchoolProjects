{
 "cells": [
  {
   "cell_type": "code",
   "execution_count": 1,
   "id": "f6da5c35",
   "metadata": {},
   "outputs": [],
   "source": [
    "import numpy as np\n",
    "import pandas as pd\n",
    "import matplotlib.pyplot as plt"
   ]
  },
  {
   "cell_type": "code",
   "execution_count": 2,
   "id": "48325d8a",
   "metadata": {},
   "outputs": [],
   "source": [
    "%matplotlib inline"
   ]
  },
  {
   "cell_type": "markdown",
   "id": "efd335ed",
   "metadata": {},
   "source": [
    "Consumption growth model with lognormal distribution is given by\n",
    "\n",
    "\\begin{equation}\n",
    "\\begin{split}\n",
    "\\log{\\tilde{g}} &= 0.02 + 0.02\\epsilon + \\nu\n",
    "\\end{split}            \n",
    "\\end{equation}\n"
   ]
  },
  {
   "cell_type": "markdown",
   "id": "ec91724c",
   "metadata": {},
   "source": [
    "**Q: Simulate ε with (at least) 10e4 random draws from a standard normal distribution, and simulate ν with (at least) 104 random draws from a standard uniform distribution**"
   ]
  },
  {
   "cell_type": "code",
   "execution_count": 3,
   "id": "2c512cda",
   "metadata": {},
   "outputs": [],
   "source": [
    "#simulating episolon\n",
    "e = np.random.standard_normal(100000)\n",
    "\n",
    "#simulating nu\n",
    "temp = np.random.uniform(0,1,100000)\n",
    "v = list(map(lambda x : 0 if x > 0.017 else np.log(0.65), temp))"
   ]
  },
  {
   "cell_type": "code",
   "execution_count": 4,
   "id": "3876a9f4",
   "metadata": {},
   "outputs": [],
   "source": [
    "#Calculating consumption growth\n",
    "g = np.exp(0.02 + 0.002 * e + v)"
   ]
  },
  {
   "cell_type": "markdown",
   "id": "be40c11c",
   "metadata": {},
   "source": [
    "Formula for calculatng the pricing kernel for power utility is given as\n",
    "\\begin{equation}\n",
    "\\begin{split}\n",
    "\\tilde{M} &= 0.99 * \\tilde{g} ^{ -\\gamma}\n",
    "\\end{split}            \n",
    "\\end{equation}\n"
   ]
  },
  {
   "cell_type": "markdown",
   "id": "a09ce0de",
   "metadata": {},
   "source": [
    "**Q: Use the simulated distribution of consumption growth to calculate the pricing kernel for power utility for γ in the range [1,4], in increments of 0.1 (or less).**"
   ]
  },
  {
   "cell_type": "code",
   "execution_count": 5,
   "id": "48c3c24c",
   "metadata": {},
   "outputs": [],
   "source": [
    "#Calculating pricing kernel for power utility\n",
    "gammaRange = np.arange(1,4.01,0.05)\n",
    "results = []\n",
    "for i in gammaRange:\n",
    "    tempM = 0.99 * g ** (-i)\n",
    "    tempStd = tempM.std()\n",
    "    tempMean = tempM.mean()\n",
    "    tempList = [i,tempStd,tempMean,tempStd/tempMean]\n",
    "    results.append(tempList)"
   ]
  },
  {
   "cell_type": "markdown",
   "id": "19fce2ac",
   "metadata": {},
   "source": [
    "**Q: Calculate the mean and standard deviation of the pricing kernel for each values of γ, and plot the ratio σm/μm (on the vertical axis) vs γ (on the horizontal axis).**"
   ]
  },
  {
   "cell_type": "code",
   "execution_count": 6,
   "id": "410a8386",
   "metadata": {},
   "outputs": [
    {
     "data": {
      "text/plain": [
       "<matplotlib.legend.Legend at 0x7fc1234e04f0>"
      ]
     },
     "execution_count": 6,
     "metadata": {},
     "output_type": "execute_result"
    },
    {
     "data": {
      "image/png": "[encoded data removed]",
      "text/plain": [
       "<Figure size 864x576 with 1 Axes>"
      ]
     },
     "metadata": {
      "needs_background": "light"
     },
     "output_type": "display_data"
    }
   ],
   "source": [
    "# Putting data into dataframe\n",
    "df = pd.DataFrame(results, columns=['gamma','mean','std','ratio'])\n",
    "\n",
    "#Plotting the graph\n",
    "fig = plt.figure(figsize = (12, 8)) # For your plot initialization\n",
    "\n",
    "sub = fig.add_subplot(111, # For adding a subplot\n",
    "                      ylabel = \"Ratio of SD over Mu\",\n",
    "                      xlabel = \"Gamma\",\n",
    "                      title = \"Graph of ratio(sd/mu) over Gamma\")\n",
    "\n",
    "sub.plot(df['gamma'],df['ratio'], label =\"Graph of ratio(sd/mu) over Gamma\" )\n",
    "\n",
    "#sub.hlines(y=0.4, xmin=0, xmax= 4,color='r', linestyle = '--')\n",
    "sub.axhline(y=0.4, xmax = 3.4, color='r', linestyle='--', label = 'Ratio = 0.4')\n",
    "\n",
    "fig2 = plt.gcf() \n",
    "plt.legend()\n"
   ]
  },
  {
   "cell_type": "markdown",
   "id": "50681b34",
   "metadata": {},
   "source": [
    "**Q: Take note of the smallest value of γ for which σm/μm > 0.4 (i.e., for which the Hansen–Jagannathan bound is satisfied)**"
   ]
  },
  {
   "cell_type": "code",
   "execution_count": 8,
   "id": "fd5c342e",
   "metadata": {},
   "outputs": [
    {
     "name": "stdout",
     "output_type": "stream",
     "text": [
      "Smallest value of gamma is 3.4 for which ratio is > 0.4.\n"
     ]
    }
   ],
   "source": [
    "smallestGamma = df[df['ratio'] > 0.4].sort_values(by = ['ratio'],ascending = True).head(1)['gamma'].values[0]\n",
    "print(f\"Smallest value of gamma is {round(smallestGamma,2)} for which ratio is > 0.4.\")"
   ]
  },
  {
   "cell_type": "markdown",
   "id": "2917fd57",
   "metadata": {},
   "source": [
    "**Q: Briefly explain the economic significance of this result**"
   ]
  },
  {
   "cell_type": "markdown",
   "id": "c342fdb6",
   "metadata": {},
   "source": [
    "<u>Answer</u>\n",
    "<br>\n",
    "Hansen-Jagannathan bound helps to set lower bound on volatility of pricing kernel whicn in turn becomes the lower bound of the investor degree of relative risk aversion as it states that the ratio of the standard deviation of the pricing kernel to its mean must be equal or greater than the sharpe ratio of any portfolio. \n",
    "\n",
    "In this case, after factoring in natural disaster, it gives a gamma value of 3.4. which represents the lower bound of the investor degree of relative risk aversion in order to obtain the observed risk premium of 7% (considering sharpe ratio of US stock market to be 0.4 and sd of 17%). Gamma value of 3.4 is a reasonable low level of risk aversion to satisfy the H-J bound thus no equity premium puzzle is present. In addition, it also tells us that the marginal utility for this group of investors is at least 1 / c^(3.40).\n",
    "\n",
    "In addition, it tells us that investors with a lower degree of relative risk aversion than 3.4 will invest in a portfolio with a sharpe ratio less than 0.4 in order to maximise their utility. "
   ]
  }
 ],
 "metadata": {
  "kernelspec": {
   "display_name": "Python 3",
   "language": "python",
   "name": "python3"
  },
  "language_info": {
   "codemirror_mode": {
    "name": "ipython",
    "version": 3
   },
   "file_extension": ".py",
   "mimetype": "text/x-python",
   "name": "python",
   "nbconvert_exporter": "python",
   "pygments_lexer": "ipython3",
   "version": "3.8.8"
  }
 },
 "nbformat": 4,
 "nbformat_minor": 5
}
