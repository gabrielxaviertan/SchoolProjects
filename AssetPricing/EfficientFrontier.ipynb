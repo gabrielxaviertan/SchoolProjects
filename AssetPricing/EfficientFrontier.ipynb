{
 "cells": [
  {
   "cell_type": "markdown",
   "id": "4cb60295",
   "metadata": {},
   "source": [
    "Name: Tan Guan Wei Gabriel\n",
    "<br>\n",
    "Homework 1"
   ]
  },
  {
   "cell_type": "code",
   "execution_count": 14,
   "id": "5ee24adf",
   "metadata": {},
   "outputs": [],
   "source": [
    "import numpy as np\n",
    "import pandas as pd\n",
    "import matplotlib.pyplot as plt"
   ]
  },
  {
   "cell_type": "code",
   "execution_count": 15,
   "id": "0ae3d8f2",
   "metadata": {},
   "outputs": [],
   "source": [
    "%matplotlib inline"
   ]
  },
  {
   "cell_type": "code",
   "execution_count": 16,
   "id": "4d05ceed",
   "metadata": {},
   "outputs": [
    {
     "name": "stderr",
     "output_type": "stream",
     "text": [
      "/Users/gab/opt/anaconda3/lib/python3.8/site-packages/openpyxl/worksheet/_reader.py:312: UserWarning: Unknown extension is not supported and will be removed\n",
      "  warn(msg)\n"
     ]
    }
   ],
   "source": [
    "data = pd.read_excel(\"Industry_Portfolios.xlsx\")"
   ]
  },
  {
   "cell_type": "code",
   "execution_count": 17,
   "id": "e62bc0a2",
   "metadata": {},
   "outputs": [
    {
     "data": {
      "text/html": [
       "<div>\n",
       "<style scoped>\n",
       "    .dataframe tbody tr th:only-of-type {\n",
       "        vertical-align: middle;\n",
       "    }\n",
       "\n",
       "    .dataframe tbody tr th {\n",
       "        vertical-align: top;\n",
       "    }\n",
       "\n",
       "    .dataframe thead th {\n",
       "        text-align: right;\n",
       "    }\n",
       "</style>\n",
       "<table border=\"1\" class=\"dataframe\">\n",
       "  <thead>\n",
       "    <tr style=\"text-align: right;\">\n",
       "      <th></th>\n",
       "      <th>Date</th>\n",
       "      <th>NoDur</th>\n",
       "      <th>Durbl</th>\n",
       "      <th>Manuf</th>\n",
       "      <th>Enrgy</th>\n",
       "      <th>HiTec</th>\n",
       "      <th>Telcm</th>\n",
       "      <th>Shops</th>\n",
       "      <th>Hlth</th>\n",
       "      <th>Utils</th>\n",
       "      <th>Other</th>\n",
       "    </tr>\n",
       "  </thead>\n",
       "  <tbody>\n",
       "    <tr>\n",
       "      <th>0</th>\n",
       "      <td>200401</td>\n",
       "      <td>0.06</td>\n",
       "      <td>-1.07</td>\n",
       "      <td>-0.62</td>\n",
       "      <td>0.44</td>\n",
       "      <td>4.53</td>\n",
       "      <td>1.41</td>\n",
       "      <td>0.45</td>\n",
       "      <td>3.09</td>\n",
       "      <td>1.92</td>\n",
       "      <td>2.88</td>\n",
       "    </tr>\n",
       "    <tr>\n",
       "      <th>1</th>\n",
       "      <td>200402</td>\n",
       "      <td>4.25</td>\n",
       "      <td>-0.07</td>\n",
       "      <td>1.95</td>\n",
       "      <td>4.69</td>\n",
       "      <td>-2.92</td>\n",
       "      <td>-0.52</td>\n",
       "      <td>6.09</td>\n",
       "      <td>0.89</td>\n",
       "      <td>2.07</td>\n",
       "      <td>2.16</td>\n",
       "    </tr>\n",
       "    <tr>\n",
       "      <th>2</th>\n",
       "      <td>200403</td>\n",
       "      <td>-0.09</td>\n",
       "      <td>-1.15</td>\n",
       "      <td>-0.27</td>\n",
       "      <td>-0.13</td>\n",
       "      <td>-2.55</td>\n",
       "      <td>-2.07</td>\n",
       "      <td>0.29</td>\n",
       "      <td>-3.96</td>\n",
       "      <td>1.13</td>\n",
       "      <td>-0.63</td>\n",
       "    </tr>\n",
       "    <tr>\n",
       "      <th>3</th>\n",
       "      <td>200404</td>\n",
       "      <td>1.42</td>\n",
       "      <td>2.30</td>\n",
       "      <td>-0.17</td>\n",
       "      <td>2.52</td>\n",
       "      <td>-4.91</td>\n",
       "      <td>-0.48</td>\n",
       "      <td>-2.70</td>\n",
       "      <td>3.54</td>\n",
       "      <td>-3.55</td>\n",
       "      <td>-3.76</td>\n",
       "    </tr>\n",
       "    <tr>\n",
       "      <th>4</th>\n",
       "      <td>200405</td>\n",
       "      <td>-1.89</td>\n",
       "      <td>-1.64</td>\n",
       "      <td>1.61</td>\n",
       "      <td>0.39</td>\n",
       "      <td>4.85</td>\n",
       "      <td>-2.95</td>\n",
       "      <td>0.30</td>\n",
       "      <td>-0.42</td>\n",
       "      <td>1.28</td>\n",
       "      <td>1.86</td>\n",
       "    </tr>\n",
       "  </tbody>\n",
       "</table>\n",
       "</div>"
      ],
      "text/plain": [
       "     Date  NoDur  Durbl  Manuf  Enrgy  HiTec  Telcm  Shops  Hlth  Utils  Other\n",
       "0  200401   0.06  -1.07  -0.62   0.44   4.53   1.41   0.45  3.09   1.92   2.88\n",
       "1  200402   4.25  -0.07   1.95   4.69  -2.92  -0.52   6.09  0.89   2.07   2.16\n",
       "2  200403  -0.09  -1.15  -0.27  -0.13  -2.55  -2.07   0.29 -3.96   1.13  -0.63\n",
       "3  200404   1.42   2.30  -0.17   2.52  -4.91  -0.48  -2.70  3.54  -3.55  -3.76\n",
       "4  200405  -1.89  -1.64   1.61   0.39   4.85  -2.95   0.30 -0.42   1.28   1.86"
      ]
     },
     "execution_count": 17,
     "metadata": {},
     "output_type": "execute_result"
    }
   ],
   "source": [
    "data.head()"
   ]
  },
  {
   "cell_type": "markdown",
   "id": "30a44563",
   "metadata": {},
   "source": [
    "**Q: Estimate the vector of mean returns and the covariance matrix of returns for the ten industry portfolios.**"
   ]
  },
  {
   "cell_type": "code",
   "execution_count": 18,
   "id": "55a6e559",
   "metadata": {
    "scrolled": true
   },
   "outputs": [
    {
     "data": {
      "text/html": [
       "<div>\n",
       "<style scoped>\n",
       "    .dataframe tbody tr th:only-of-type {\n",
       "        vertical-align: middle;\n",
       "    }\n",
       "\n",
       "    .dataframe tbody tr th {\n",
       "        vertical-align: top;\n",
       "    }\n",
       "\n",
       "    .dataframe thead th {\n",
       "        text-align: right;\n",
       "    }\n",
       "</style>\n",
       "<table border=\"1\" class=\"dataframe\">\n",
       "  <thead>\n",
       "    <tr style=\"text-align: right;\">\n",
       "      <th></th>\n",
       "      <th>NoDur</th>\n",
       "      <th>Durbl</th>\n",
       "      <th>Manuf</th>\n",
       "      <th>Enrgy</th>\n",
       "      <th>HiTec</th>\n",
       "      <th>Telcm</th>\n",
       "      <th>Shops</th>\n",
       "      <th>Hlth</th>\n",
       "      <th>Utils</th>\n",
       "      <th>Other</th>\n",
       "    </tr>\n",
       "  </thead>\n",
       "  <tbody>\n",
       "    <tr>\n",
       "      <th>NoDur</th>\n",
       "      <td>11.193422</td>\n",
       "      <td>18.449666</td>\n",
       "      <td>14.104907</td>\n",
       "      <td>10.531341</td>\n",
       "      <td>12.922949</td>\n",
       "      <td>11.968078</td>\n",
       "      <td>10.170832</td>\n",
       "      <td>9.953112</td>\n",
       "      <td>7.866653</td>\n",
       "      <td>14.438409</td>\n",
       "    </tr>\n",
       "    <tr>\n",
       "      <th>Durbl</th>\n",
       "      <td>18.449666</td>\n",
       "      <td>69.920577</td>\n",
       "      <td>39.178097</td>\n",
       "      <td>27.019794</td>\n",
       "      <td>35.466652</td>\n",
       "      <td>27.490543</td>\n",
       "      <td>27.444731</td>\n",
       "      <td>16.824003</td>\n",
       "      <td>12.746136</td>\n",
       "      <td>39.361987</td>\n",
       "    </tr>\n",
       "    <tr>\n",
       "      <th>Manuf</th>\n",
       "      <td>14.104907</td>\n",
       "      <td>39.178097</td>\n",
       "      <td>28.198970</td>\n",
       "      <td>23.145380</td>\n",
       "      <td>24.618739</td>\n",
       "      <td>19.550150</td>\n",
       "      <td>17.622867</td>\n",
       "      <td>13.596447</td>\n",
       "      <td>11.440612</td>\n",
       "      <td>26.313423</td>\n",
       "    </tr>\n",
       "    <tr>\n",
       "      <th>Enrgy</th>\n",
       "      <td>10.531341</td>\n",
       "      <td>27.019794</td>\n",
       "      <td>23.145380</td>\n",
       "      <td>36.984933</td>\n",
       "      <td>19.267276</td>\n",
       "      <td>15.366817</td>\n",
       "      <td>11.297800</td>\n",
       "      <td>9.630327</td>\n",
       "      <td>14.027168</td>\n",
       "      <td>18.320469</td>\n",
       "    </tr>\n",
       "    <tr>\n",
       "      <th>HiTec</th>\n",
       "      <td>12.922949</td>\n",
       "      <td>35.466652</td>\n",
       "      <td>24.618739</td>\n",
       "      <td>19.267276</td>\n",
       "      <td>28.957220</td>\n",
       "      <td>18.708273</td>\n",
       "      <td>17.837115</td>\n",
       "      <td>13.254064</td>\n",
       "      <td>10.304187</td>\n",
       "      <td>23.855470</td>\n",
       "    </tr>\n",
       "    <tr>\n",
       "      <th>Telcm</th>\n",
       "      <td>11.968078</td>\n",
       "      <td>27.490543</td>\n",
       "      <td>19.550150</td>\n",
       "      <td>15.366817</td>\n",
       "      <td>18.708273</td>\n",
       "      <td>19.787227</td>\n",
       "      <td>14.169356</td>\n",
       "      <td>11.506599</td>\n",
       "      <td>10.991596</td>\n",
       "      <td>19.610836</td>\n",
       "    </tr>\n",
       "    <tr>\n",
       "      <th>Shops</th>\n",
       "      <td>10.170832</td>\n",
       "      <td>27.444731</td>\n",
       "      <td>17.622867</td>\n",
       "      <td>11.297800</td>\n",
       "      <td>17.837115</td>\n",
       "      <td>14.169356</td>\n",
       "      <td>16.759084</td>\n",
       "      <td>10.178849</td>\n",
       "      <td>6.694350</td>\n",
       "      <td>19.226524</td>\n",
       "    </tr>\n",
       "    <tr>\n",
       "      <th>Hlth</th>\n",
       "      <td>9.953112</td>\n",
       "      <td>16.824003</td>\n",
       "      <td>13.596447</td>\n",
       "      <td>9.630327</td>\n",
       "      <td>13.254064</td>\n",
       "      <td>11.506599</td>\n",
       "      <td>10.178849</td>\n",
       "      <td>14.342669</td>\n",
       "      <td>7.475036</td>\n",
       "      <td>14.864553</td>\n",
       "    </tr>\n",
       "    <tr>\n",
       "      <th>Utils</th>\n",
       "      <td>7.866653</td>\n",
       "      <td>12.746136</td>\n",
       "      <td>11.440612</td>\n",
       "      <td>14.027168</td>\n",
       "      <td>10.304187</td>\n",
       "      <td>10.991596</td>\n",
       "      <td>6.694350</td>\n",
       "      <td>7.475036</td>\n",
       "      <td>13.703052</td>\n",
       "      <td>9.992960</td>\n",
       "    </tr>\n",
       "    <tr>\n",
       "      <th>Other</th>\n",
       "      <td>14.438409</td>\n",
       "      <td>39.361987</td>\n",
       "      <td>26.313423</td>\n",
       "      <td>18.320469</td>\n",
       "      <td>23.855470</td>\n",
       "      <td>19.610836</td>\n",
       "      <td>19.226524</td>\n",
       "      <td>14.864553</td>\n",
       "      <td>9.992960</td>\n",
       "      <td>31.163771</td>\n",
       "    </tr>\n",
       "  </tbody>\n",
       "</table>\n",
       "</div>"
      ],
      "text/plain": [
       "           NoDur      Durbl      Manuf      Enrgy      HiTec      Telcm  \\\n",
       "NoDur  11.193422  18.449666  14.104907  10.531341  12.922949  11.968078   \n",
       "Durbl  18.449666  69.920577  39.178097  27.019794  35.466652  27.490543   \n",
       "Manuf  14.104907  39.178097  28.198970  23.145380  24.618739  19.550150   \n",
       "Enrgy  10.531341  27.019794  23.145380  36.984933  19.267276  15.366817   \n",
       "HiTec  12.922949  35.466652  24.618739  19.267276  28.957220  18.708273   \n",
       "Telcm  11.968078  27.490543  19.550150  15.366817  18.708273  19.787227   \n",
       "Shops  10.170832  27.444731  17.622867  11.297800  17.837115  14.169356   \n",
       "Hlth    9.953112  16.824003  13.596447   9.630327  13.254064  11.506599   \n",
       "Utils   7.866653  12.746136  11.440612  14.027168  10.304187  10.991596   \n",
       "Other  14.438409  39.361987  26.313423  18.320469  23.855470  19.610836   \n",
       "\n",
       "           Shops       Hlth      Utils      Other  \n",
       "NoDur  10.170832   9.953112   7.866653  14.438409  \n",
       "Durbl  27.444731  16.824003  12.746136  39.361987  \n",
       "Manuf  17.622867  13.596447  11.440612  26.313423  \n",
       "Enrgy  11.297800   9.630327  14.027168  18.320469  \n",
       "HiTec  17.837115  13.254064  10.304187  23.855470  \n",
       "Telcm  14.169356  11.506599  10.991596  19.610836  \n",
       "Shops  16.759084  10.178849   6.694350  19.226524  \n",
       "Hlth   10.178849  14.342669   7.475036  14.864553  \n",
       "Utils   6.694350   7.475036  13.703052   9.992960  \n",
       "Other  19.226524  14.864553   9.992960  31.163771  "
      ]
     },
     "execution_count": 18,
     "metadata": {},
     "output_type": "execute_result"
    }
   ],
   "source": [
    "#Covariance Matrix\n",
    "covMatrixTemp = data.loc[:,'NoDur':].cov()\n",
    "#Changing to array\n",
    "covMatrix = covMatrixTemp.to_numpy()\n",
    "covMatrixTemp"
   ]
  },
  {
   "cell_type": "code",
   "execution_count": 19,
   "id": "e5c89c13",
   "metadata": {},
   "outputs": [
    {
     "data": {
      "text/plain": [
       "NoDur    0.902833\n",
       "Durbl    0.733333\n",
       "Manuf    1.012833\n",
       "Enrgy    1.231167\n",
       "HiTec    0.766250\n",
       "Telcm    0.881417\n",
       "Shops    0.916333\n",
       "Hlth     0.783833\n",
       "Utils    0.907167\n",
       "Other    0.489083\n",
       "dtype: float64"
      ]
     },
     "execution_count": 19,
     "metadata": {},
     "output_type": "execute_result"
    }
   ],
   "source": [
    "#Vector of mean expectation deviation\n",
    "dataMeanTemp = data.loc[:,'NoDur':].mean()\n",
    "#changing to Array\n",
    "dataMean = dataMeanTemp.to_numpy().reshape(10,1)\n",
    "dataMeanTemp"
   ]
  },
  {
   "cell_type": "markdown",
   "id": "a550c8d7",
   "metadata": {},
   "source": [
    "**Q: Create a table showing the mean returns and standard deviation of returns for the ten industry portfolios**"
   ]
  },
  {
   "cell_type": "code",
   "execution_count": 20,
   "id": "5b4901e4",
   "metadata": {},
   "outputs": [
    {
     "data": {
      "text/html": [
       "<div>\n",
       "<style scoped>\n",
       "    .dataframe tbody tr th:only-of-type {\n",
       "        vertical-align: middle;\n",
       "    }\n",
       "\n",
       "    .dataframe tbody tr th {\n",
       "        vertical-align: top;\n",
       "    }\n",
       "\n",
       "    .dataframe thead th {\n",
       "        text-align: right;\n",
       "    }\n",
       "</style>\n",
       "<table border=\"1\" class=\"dataframe\">\n",
       "  <thead>\n",
       "    <tr style=\"text-align: right;\">\n",
       "      <th></th>\n",
       "      <th>mean</th>\n",
       "      <th>std</th>\n",
       "    </tr>\n",
       "  </thead>\n",
       "  <tbody>\n",
       "    <tr>\n",
       "      <th>NoDur</th>\n",
       "      <td>0.902833</td>\n",
       "      <td>3.345657</td>\n",
       "    </tr>\n",
       "    <tr>\n",
       "      <th>Durbl</th>\n",
       "      <td>0.733333</td>\n",
       "      <td>8.361852</td>\n",
       "    </tr>\n",
       "    <tr>\n",
       "      <th>Manuf</th>\n",
       "      <td>1.012833</td>\n",
       "      <td>5.310270</td>\n",
       "    </tr>\n",
       "    <tr>\n",
       "      <th>Enrgy</th>\n",
       "      <td>1.231167</td>\n",
       "      <td>6.081524</td>\n",
       "    </tr>\n",
       "    <tr>\n",
       "      <th>HiTec</th>\n",
       "      <td>0.766250</td>\n",
       "      <td>5.381191</td>\n",
       "    </tr>\n",
       "    <tr>\n",
       "      <th>Telcm</th>\n",
       "      <td>0.881417</td>\n",
       "      <td>4.448284</td>\n",
       "    </tr>\n",
       "    <tr>\n",
       "      <th>Shops</th>\n",
       "      <td>0.916333</td>\n",
       "      <td>4.093786</td>\n",
       "    </tr>\n",
       "    <tr>\n",
       "      <th>Hlth</th>\n",
       "      <td>0.783833</td>\n",
       "      <td>3.787172</td>\n",
       "    </tr>\n",
       "    <tr>\n",
       "      <th>Utils</th>\n",
       "      <td>0.907167</td>\n",
       "      <td>3.701763</td>\n",
       "    </tr>\n",
       "    <tr>\n",
       "      <th>Other</th>\n",
       "      <td>0.489083</td>\n",
       "      <td>5.582452</td>\n",
       "    </tr>\n",
       "  </tbody>\n",
       "</table>\n",
       "</div>"
      ],
      "text/plain": [
       "           mean       std\n",
       "NoDur  0.902833  3.345657\n",
       "Durbl  0.733333  8.361852\n",
       "Manuf  1.012833  5.310270\n",
       "Enrgy  1.231167  6.081524\n",
       "HiTec  0.766250  5.381191\n",
       "Telcm  0.881417  4.448284\n",
       "Shops  0.916333  4.093786\n",
       "Hlth   0.783833  3.787172\n",
       "Utils  0.907167  3.701763\n",
       "Other  0.489083  5.582452"
      ]
     },
     "execution_count": 20,
     "metadata": {},
     "output_type": "execute_result"
    }
   ],
   "source": [
    "#Table for mean and std\n",
    "data.loc[:,'NoDur':].describe().loc[['mean','std']].T"
   ]
  },
  {
   "cell_type": "markdown",
   "id": "26d4207d",
   "metadata": {},
   "source": [
    "**Q: Plot the minimum-variance frontier (without the riskless asset) generated by the ten industry portfolios, with expected return on the vertical axis and standard deviation of return on the horizontal axis. This plot should cover the range from 0% to 2%, in increments of 0.1% (or less), on the vertical axis.**"
   ]
  },
  {
   "cell_type": "code",
   "execution_count": 21,
   "id": "f9ab5dc7",
   "metadata": {},
   "outputs": [],
   "source": [
    "covMatrixInverse = np.linalg.pinv(covMatrix)\n",
    "e = np.ones((10,1), dtype=int)\n",
    "ePrime =  np.ones((1,10), dtype=int)\n",
    "datameanTrans  = dataMean.reshape(1,10)"
   ]
  },
  {
   "cell_type": "code",
   "execution_count": 22,
   "id": "cef99971",
   "metadata": {},
   "outputs": [],
   "source": [
    "import decimal\n",
    "alpha = np.matmul(np.matmul(datameanTrans,covMatrixInverse),e).item()\n",
    "zeta = np.matmul(np.matmul(datameanTrans,covMatrixInverse),dataMean).item()\n",
    "delta = np.matmul(np.matmul(ePrime,covMatrixInverse),e).item()"
   ]
  },
  {
   "cell_type": "code",
   "execution_count": 23,
   "id": "d547de23",
   "metadata": {},
   "outputs": [],
   "source": [
    "import math\n",
    "#Using a smaller step of 0.0025 to get a nicer graph\n",
    "l = [i for i in np.arange(0, 2, 0.0025)]\n",
    "expectedReturnList = []\n",
    "stdList = []\n",
    "stdList2 = []\n",
    "expectedReturnList2 = []\n",
    "globMinVarReturn = alpha / delta\n",
    "for x in l:\n",
    "    x = round(x,5)\n",
    "    tempVar = 1/delta + delta / (zeta * delta - (alpha)**2) * (x - globMinVarReturn)**2\n",
    "    tempStd = math.sqrt(tempVar)\n",
    "    if (x - globMinVarReturn > 0 ):\n",
    "        stdList.append(tempStd)\n",
    "        expectedReturnList.append(x)\n",
    "    else:\n",
    "        stdList2.append(tempStd)\n",
    "        expectedReturnList2.append(x)\n",
    "    "
   ]
  },
  {
   "cell_type": "code",
   "execution_count": 24,
   "id": "b6d984f4",
   "metadata": {},
   "outputs": [
    {
     "data": {
      "image/png": "[encoded data removed]",
      "text/plain": [
       "<Figure size 720x432 with 1 Axes>"
      ]
     },
     "metadata": {
      "needs_background": "light"
     },
     "output_type": "display_data"
    }
   ],
   "source": [
    "plt.figure(figsize = (10, 6))\n",
    "plt.plot(stdList,expectedReturnList)\n",
    "plt.plot(stdList2,expectedReturnList2, linestyle = ':', color = '#1f77b4')\n",
    "plt.xlabel(\"Std Dev of return\")\n",
    "plt.ylabel(\"Expected Return\")\n",
    "plt.title(\"Minimum Variance Frontier\")\n",
    "plt.show()"
   ]
  },
  {
   "cell_type": "markdown",
   "id": "c9de39a1",
   "metadata": {},
   "source": [
    "**Q: Briefly explain the economic significance and relevance of the minimum-variance frontier to an investor.**"
   ]
  },
  {
   "cell_type": "markdown",
   "id": "aeed4017",
   "metadata": {},
   "source": [
    "<u>Answer<br></u>\n",
    "The minimum variance frontier show an investor the different portfolios which possess the lowest amount of  risk for any given expected return. This allows investor to gauge if they are taking greater risk than necessary to achieve their desired expected return. For an logical risk averse investor, they will only invest in portfolios on the minimum-variance frontier(specifically the top-half of the curve) as if they invest in the right portion of the curve, there would be a less risky portfolio available with the same expected return. In addition, they are unable to invest on the left portion of the curve as it is no such portfolios exists in that spectrum "
   ]
  },
  {
   "cell_type": "markdown",
   "id": "94277301",
   "metadata": {},
   "source": [
    "**Q: Plot the efficient frontier (with the riskless asset) on the same plot as the minimum-variance frontier generated by the ten industry portfolios.**"
   ]
  },
  {
   "cell_type": "code",
   "execution_count": 25,
   "id": "8fbd28cb",
   "metadata": {},
   "outputs": [
    {
     "data": {
      "image/png": "[encoded data removed]",
      "text/plain": [
       "<Figure size 720x432 with 1 Axes>"
      ]
     },
     "metadata": {
      "needs_background": "light"
     },
     "output_type": "display_data"
    }
   ],
   "source": [
    "tempRisklessAssetVar =  (2 - 0.13)**2 / (zeta - 2*alpha*0.13 + delta * 0.13**2)\n",
    "tempRisklessAssetStd =   math.sqrt(tempRisklessAssetVar)\n",
    "risklessAssetStd = [0,tempRisklessAssetStd]\n",
    "risklessAssetRet = [0.13, 2]\n",
    "\n",
    "plt.figure(figsize = (10, 6))\n",
    "\n",
    "plt.plot(stdList,expectedReturnList )\n",
    "plt.plot(stdList2,expectedReturnList2, linestyle = ':', color = '#1f77b4')\n",
    "plt.plot(risklessAssetStd,risklessAssetRet)\n",
    "\n",
    "plt.xlabel(\"Std Dev of return\")\n",
    "plt.ylabel(\"Expected Return\")\n",
    "plt.title(\"Minimum Variance Frontier & Efficient Frontier with Riskless Asset\")\n",
    "\n",
    "plt.show()"
   ]
  },
  {
   "cell_type": "markdown",
   "id": "050111ab",
   "metadata": {},
   "source": [
    "**Q: Briefly explain the economic significance and relevance of the efficient frontier to an investor.**"
   ]
  },
  {
   "cell_type": "markdown",
   "id": "b5ddf205",
   "metadata": {},
   "source": [
    "<u>Answer<br></u>\n",
    "The efficient frontier shows the investor the portfolio which has the highest mean return for a given level of risk. Using the investor's indifference curve and the efficient frontier will allow the investor to identify the portfolio which maximise his/her expected utility by maxismising trade off between expected return and risk"
   ]
  },
  {
   "cell_type": "markdown",
   "id": "73636490",
   "metadata": {},
   "source": [
    "**Q:Calculate the Sharpe ratio for the tangency portfolio, and also the tangency portfolio weights for the ten industry portfolios.**"
   ]
  },
  {
   "cell_type": "code",
   "execution_count": 26,
   "id": "d77b966f",
   "metadata": {},
   "outputs": [
    {
     "data": {
      "text/plain": [
       "0.40356559934950875"
      ]
     },
     "execution_count": 26,
     "metadata": {},
     "output_type": "execute_result"
    }
   ],
   "source": [
    "#Calculation of Sharpe Ratio\n",
    "sharpeRatio = (zeta - 2 * alpha * 0.13 + delta *(0.13)**2)**0.5\n",
    "sharpeRatio"
   ]
  },
  {
   "cell_type": "code",
   "execution_count": 27,
   "id": "fd1a3b6c",
   "metadata": {},
   "outputs": [
    {
     "data": {
      "text/html": [
       "<div>\n",
       "<style scoped>\n",
       "    .dataframe tbody tr th:only-of-type {\n",
       "        vertical-align: middle;\n",
       "    }\n",
       "\n",
       "    .dataframe tbody tr th {\n",
       "        vertical-align: top;\n",
       "    }\n",
       "\n",
       "    .dataframe thead th {\n",
       "        text-align: right;\n",
       "    }\n",
       "</style>\n",
       "<table border=\"1\" class=\"dataframe\">\n",
       "  <thead>\n",
       "    <tr style=\"text-align: right;\">\n",
       "      <th></th>\n",
       "      <th>Weights</th>\n",
       "    </tr>\n",
       "  </thead>\n",
       "  <tbody>\n",
       "    <tr>\n",
       "      <th>NoDur</th>\n",
       "      <td>0.567972</td>\n",
       "    </tr>\n",
       "    <tr>\n",
       "      <th>Durbl</th>\n",
       "      <td>-0.214073</td>\n",
       "    </tr>\n",
       "    <tr>\n",
       "      <th>Manuf</th>\n",
       "      <td>0.714105</td>\n",
       "    </tr>\n",
       "    <tr>\n",
       "      <th>Enrgy</th>\n",
       "      <td>0.104087</td>\n",
       "    </tr>\n",
       "    <tr>\n",
       "      <th>HiTec</th>\n",
       "      <td>-0.363438</td>\n",
       "    </tr>\n",
       "    <tr>\n",
       "      <th>Telcm</th>\n",
       "      <td>-0.095463</td>\n",
       "    </tr>\n",
       "    <tr>\n",
       "      <th>Shops</th>\n",
       "      <td>0.991647</td>\n",
       "    </tr>\n",
       "    <tr>\n",
       "      <th>Hlth</th>\n",
       "      <td>0.075570</td>\n",
       "    </tr>\n",
       "    <tr>\n",
       "      <th>Utils</th>\n",
       "      <td>0.132643</td>\n",
       "    </tr>\n",
       "    <tr>\n",
       "      <th>Other</th>\n",
       "      <td>-0.913051</td>\n",
       "    </tr>\n",
       "  </tbody>\n",
       "</table>\n",
       "</div>"
      ],
      "text/plain": [
       "        Weights\n",
       "NoDur  0.567972\n",
       "Durbl -0.214073\n",
       "Manuf  0.714105\n",
       "Enrgy  0.104087\n",
       "HiTec -0.363438\n",
       "Telcm -0.095463\n",
       "Shops  0.991647\n",
       "Hlth   0.075570\n",
       "Utils  0.132643\n",
       "Other -0.913051"
      ]
     },
     "execution_count": 27,
     "metadata": {},
     "output_type": "execute_result"
    }
   ],
   "source": [
    "#Calculation of tangency portfolio weights\n",
    "tanPortReturn = (alpha *0.13 - zeta)/ (delta * 0.13 - alpha)\n",
    "\n",
    "#knowing w* = a + b * Rp\n",
    "atemp1 =  zeta * np.matmul(covMatrixInverse,e) - alpha * np.matmul(covMatrixInverse,dataMean)\n",
    "atemp2 = zeta * delta - alpha*alpha\n",
    "a = atemp1/atemp2\n",
    "\n",
    "btemp1 = delta * np.matmul(covMatrixInverse,dataMean) - alpha * np.matmul(covMatrixInverse,e)\n",
    "b = btemp1 / atemp2\n",
    "\n",
    "portfolioWeights = a + b * tanPortReturn\n",
    "portfolioWeights\n",
    "sectorList = list(data.loc[:,'NoDur':].describe().loc[['mean','std']].T.index)\n",
    "tempDf = pd.DataFrame(portfolioWeights,sectorList,['Weights'])\n",
    "tempDf"
   ]
  },
  {
   "cell_type": "markdown",
   "id": "be4627f6",
   "metadata": {},
   "source": [
    "**Q: Briefly explain the economic significance and relevance of the tangency portfolio to an investor.**"
   ]
  },
  {
   "cell_type": "markdown",
   "id": "d253bfba",
   "metadata": {},
   "source": [
    "<u>Answer<br></u>\n",
    "Tangency portfolio is also the optimal risky portfolio for any investor given the risk free rate. Any portfolios before or after this point, will have an less than optimised tradeoff between risk and expected return. Thus, the tangency portfolio can regarded as the portfolio that has the best return to risk ratio (highest sharpe ratio) for the investor \n"
   ]
  }
 ],
 "metadata": {
  "kernelspec": {
   "display_name": "Python 3",
   "language": "python",
   "name": "python3"
  },
  "language_info": {
   "codemirror_mode": {
    "name": "ipython",
    "version": 3
   },
   "file_extension": ".py",
   "mimetype": "text/x-python",
   "name": "python",
   "nbconvert_exporter": "python",
   "pygments_lexer": "ipython3",
   "version": "3.8.8"
  }
 },
 "nbformat": 4,
 "nbformat_minor": 5
}
