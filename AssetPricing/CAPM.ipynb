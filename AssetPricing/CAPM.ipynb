{
 "cells": [
  {
   "cell_type": "markdown",
   "id": "546a1be5",
   "metadata": {},
   "source": [
    "<u>QF600 Assignment 2</u><br>\n",
    "Name: Gabriel Tan"
   ]
  },
  {
   "cell_type": "code",
   "execution_count": 1,
   "id": "49e8a1aa",
   "metadata": {},
   "outputs": [],
   "source": [
    "import numpy as np\n",
    "import pandas as pd\n",
    "import matplotlib.pyplot as plt\n",
    "import statsmodels.api as sm\n",
    "\n",
    "%matplotlib inline"
   ]
  },
  {
   "cell_type": "code",
   "execution_count": 2,
   "id": "363a0ad9",
   "metadata": {},
   "outputs": [
    {
     "name": "stderr",
     "output_type": "stream",
     "text": [
      "/Users/gab/opt/anaconda3/lib/python3.8/site-packages/openpyxl/worksheet/_reader.py:312: UserWarning: Unknown extension is not supported and will be removed\n",
      "  warn(msg)\n"
     ]
    }
   ],
   "source": [
    "industryData = pd.read_excel(\"Industry_Portfolios.xlsx\")\n",
    "mktData = pd.read_excel(\"Market_Portfolio.xlsx\")"
   ]
  },
  {
   "cell_type": "code",
   "execution_count": 3,
   "id": "dd028bc8",
   "metadata": {},
   "outputs": [
    {
     "data": {
      "text/html": [
       "<div>\n",
       "<style scoped>\n",
       "    .dataframe tbody tr th:only-of-type {\n",
       "        vertical-align: middle;\n",
       "    }\n",
       "\n",
       "    .dataframe tbody tr th {\n",
       "        vertical-align: top;\n",
       "    }\n",
       "\n",
       "    .dataframe thead th {\n",
       "        text-align: right;\n",
       "    }\n",
       "</style>\n",
       "<table border=\"1\" class=\"dataframe\">\n",
       "  <thead>\n",
       "    <tr style=\"text-align: right;\">\n",
       "      <th></th>\n",
       "      <th>Date</th>\n",
       "      <th>NoDur</th>\n",
       "      <th>Durbl</th>\n",
       "      <th>Manuf</th>\n",
       "      <th>Enrgy</th>\n",
       "      <th>HiTec</th>\n",
       "      <th>Telcm</th>\n",
       "      <th>Shops</th>\n",
       "      <th>Hlth</th>\n",
       "      <th>Utils</th>\n",
       "      <th>Other</th>\n",
       "    </tr>\n",
       "  </thead>\n",
       "  <tbody>\n",
       "    <tr>\n",
       "      <th>0</th>\n",
       "      <td>200401</td>\n",
       "      <td>0.06</td>\n",
       "      <td>-1.07</td>\n",
       "      <td>-0.62</td>\n",
       "      <td>0.44</td>\n",
       "      <td>4.53</td>\n",
       "      <td>1.41</td>\n",
       "      <td>0.45</td>\n",
       "      <td>3.09</td>\n",
       "      <td>1.92</td>\n",
       "      <td>2.88</td>\n",
       "    </tr>\n",
       "    <tr>\n",
       "      <th>1</th>\n",
       "      <td>200402</td>\n",
       "      <td>4.25</td>\n",
       "      <td>-0.07</td>\n",
       "      <td>1.95</td>\n",
       "      <td>4.69</td>\n",
       "      <td>-2.92</td>\n",
       "      <td>-0.52</td>\n",
       "      <td>6.09</td>\n",
       "      <td>0.89</td>\n",
       "      <td>2.07</td>\n",
       "      <td>2.16</td>\n",
       "    </tr>\n",
       "    <tr>\n",
       "      <th>2</th>\n",
       "      <td>200403</td>\n",
       "      <td>-0.09</td>\n",
       "      <td>-1.15</td>\n",
       "      <td>-0.27</td>\n",
       "      <td>-0.13</td>\n",
       "      <td>-2.55</td>\n",
       "      <td>-2.07</td>\n",
       "      <td>0.29</td>\n",
       "      <td>-3.96</td>\n",
       "      <td>1.13</td>\n",
       "      <td>-0.63</td>\n",
       "    </tr>\n",
       "    <tr>\n",
       "      <th>3</th>\n",
       "      <td>200404</td>\n",
       "      <td>1.42</td>\n",
       "      <td>2.30</td>\n",
       "      <td>-0.17</td>\n",
       "      <td>2.52</td>\n",
       "      <td>-4.91</td>\n",
       "      <td>-0.48</td>\n",
       "      <td>-2.70</td>\n",
       "      <td>3.54</td>\n",
       "      <td>-3.55</td>\n",
       "      <td>-3.76</td>\n",
       "    </tr>\n",
       "    <tr>\n",
       "      <th>4</th>\n",
       "      <td>200405</td>\n",
       "      <td>-1.89</td>\n",
       "      <td>-1.64</td>\n",
       "      <td>1.61</td>\n",
       "      <td>0.39</td>\n",
       "      <td>4.85</td>\n",
       "      <td>-2.95</td>\n",
       "      <td>0.30</td>\n",
       "      <td>-0.42</td>\n",
       "      <td>1.28</td>\n",
       "      <td>1.86</td>\n",
       "    </tr>\n",
       "  </tbody>\n",
       "</table>\n",
       "</div>"
      ],
      "text/plain": [
       "     Date  NoDur  Durbl  Manuf  Enrgy  HiTec  Telcm  Shops  Hlth  Utils  Other\n",
       "0  200401   0.06  -1.07  -0.62   0.44   4.53   1.41   0.45  3.09   1.92   2.88\n",
       "1  200402   4.25  -0.07   1.95   4.69  -2.92  -0.52   6.09  0.89   2.07   2.16\n",
       "2  200403  -0.09  -1.15  -0.27  -0.13  -2.55  -2.07   0.29 -3.96   1.13  -0.63\n",
       "3  200404   1.42   2.30  -0.17   2.52  -4.91  -0.48  -2.70  3.54  -3.55  -3.76\n",
       "4  200405  -1.89  -1.64   1.61   0.39   4.85  -2.95   0.30 -0.42   1.28   1.86"
      ]
     },
     "execution_count": 3,
     "metadata": {},
     "output_type": "execute_result"
    }
   ],
   "source": [
    "industryData.head()"
   ]
  },
  {
   "cell_type": "code",
   "execution_count": 4,
   "id": "9a94de21",
   "metadata": {},
   "outputs": [
    {
     "data": {
      "text/html": [
       "<div>\n",
       "<style scoped>\n",
       "    .dataframe tbody tr th:only-of-type {\n",
       "        vertical-align: middle;\n",
       "    }\n",
       "\n",
       "    .dataframe tbody tr th {\n",
       "        vertical-align: top;\n",
       "    }\n",
       "\n",
       "    .dataframe thead th {\n",
       "        text-align: right;\n",
       "    }\n",
       "</style>\n",
       "<table border=\"1\" class=\"dataframe\">\n",
       "  <thead>\n",
       "    <tr style=\"text-align: right;\">\n",
       "      <th></th>\n",
       "      <th>Date</th>\n",
       "      <th>Market</th>\n",
       "    </tr>\n",
       "  </thead>\n",
       "  <tbody>\n",
       "    <tr>\n",
       "      <th>0</th>\n",
       "      <td>200401</td>\n",
       "      <td>2.22</td>\n",
       "    </tr>\n",
       "    <tr>\n",
       "      <th>1</th>\n",
       "      <td>200402</td>\n",
       "      <td>1.46</td>\n",
       "    </tr>\n",
       "    <tr>\n",
       "      <th>2</th>\n",
       "      <td>200403</td>\n",
       "      <td>-1.23</td>\n",
       "    </tr>\n",
       "    <tr>\n",
       "      <th>3</th>\n",
       "      <td>200404</td>\n",
       "      <td>-1.75</td>\n",
       "    </tr>\n",
       "    <tr>\n",
       "      <th>4</th>\n",
       "      <td>200405</td>\n",
       "      <td>1.23</td>\n",
       "    </tr>\n",
       "  </tbody>\n",
       "</table>\n",
       "</div>"
      ],
      "text/plain": [
       "     Date  Market\n",
       "0  200401    2.22\n",
       "1  200402    1.46\n",
       "2  200403   -1.23\n",
       "3  200404   -1.75\n",
       "4  200405    1.23"
      ]
     },
     "execution_count": 4,
     "metadata": {},
     "output_type": "execute_result"
    }
   ],
   "source": [
    "mktData.head()"
   ]
  },
  {
   "cell_type": "markdown",
   "id": "53f99335",
   "metadata": {},
   "source": [
    "***Regress the monthly excess returns for each of the ten industry portfolios on the monthly excess returns for the market portfolio, so as to estimate the intercept coefficient (α) and slope coefficient (β) for each of the ten industry portfolios.***"
   ]
  },
  {
   "cell_type": "markdown",
   "id": "9fd3fdcd",
   "metadata": {},
   "source": [
    "***Q: Create a table showing the intercept and slope coefficients for the ten industry portfolios***"
   ]
  },
  {
   "cell_type": "code",
   "execution_count": 5,
   "id": "d942684b",
   "metadata": {},
   "outputs": [],
   "source": [
    "#calculating excess returns for the different datas\n",
    "industryData2 = industryData.copy()\n",
    "industryData2.iloc[:,1:] = industryData2.iloc[:,1:].apply(lambda x: x - float(0.13))\n",
    "\n",
    "mktData2 = mktData.copy()\n",
    "mktData2.iloc[:,1] = mktData2.iloc[:,1].apply(lambda x: x - float(0.13))\n"
   ]
  },
  {
   "cell_type": "code",
   "execution_count": 6,
   "id": "58bc5d00",
   "metadata": {},
   "outputs": [
    {
     "name": "stderr",
     "output_type": "stream",
     "text": [
      "/Users/gab/opt/anaconda3/lib/python3.8/site-packages/statsmodels/tsa/tsatools.py:142: FutureWarning: In a future version of pandas all arguments of concat except for the argument 'objs' will be keyword-only\n",
      "  x = pd.concat(x[::order], 1)\n"
     ]
    },
    {
     "data": {
      "text/html": [
       "<div>\n",
       "<style scoped>\n",
       "    .dataframe tbody tr th:only-of-type {\n",
       "        vertical-align: middle;\n",
       "    }\n",
       "\n",
       "    .dataframe tbody tr th {\n",
       "        vertical-align: top;\n",
       "    }\n",
       "\n",
       "    .dataframe thead th {\n",
       "        text-align: right;\n",
       "    }\n",
       "</style>\n",
       "<table border=\"1\" class=\"dataframe\">\n",
       "  <thead>\n",
       "    <tr style=\"text-align: right;\">\n",
       "      <th></th>\n",
       "      <th>Industry</th>\n",
       "      <th>Intercept</th>\n",
       "      <th>Slope</th>\n",
       "    </tr>\n",
       "  </thead>\n",
       "  <tbody>\n",
       "    <tr>\n",
       "      <th>0</th>\n",
       "      <td>NoDur</td>\n",
       "      <td>0.369443</td>\n",
       "      <td>0.652647</td>\n",
       "    </tr>\n",
       "    <tr>\n",
       "      <th>1</th>\n",
       "      <td>Durbl</td>\n",
       "      <td>-0.415599</td>\n",
       "      <td>1.648536</td>\n",
       "    </tr>\n",
       "    <tr>\n",
       "      <th>2</th>\n",
       "      <td>Manuf</td>\n",
       "      <td>0.159771</td>\n",
       "      <td>1.169846</td>\n",
       "    </tr>\n",
       "    <tr>\n",
       "      <th>3</th>\n",
       "      <td>Enrgy</td>\n",
       "      <td>0.501719</td>\n",
       "      <td>0.969850</td>\n",
       "    </tr>\n",
       "    <tr>\n",
       "      <th>4</th>\n",
       "      <td>HiTec</td>\n",
       "      <td>-0.064020</td>\n",
       "      <td>1.132969</td>\n",
       "    </tr>\n",
       "    <tr>\n",
       "      <th>5</th>\n",
       "      <td>Telcm</td>\n",
       "      <td>0.194691</td>\n",
       "      <td>0.900729</td>\n",
       "    </tr>\n",
       "    <tr>\n",
       "      <th>6</th>\n",
       "      <td>Shops</td>\n",
       "      <td>0.275492</td>\n",
       "      <td>0.826492</td>\n",
       "    </tr>\n",
       "    <tr>\n",
       "      <th>7</th>\n",
       "      <td>Hlth</td>\n",
       "      <td>0.237841</td>\n",
       "      <td>0.673036</td>\n",
       "    </tr>\n",
       "    <tr>\n",
       "      <th>8</th>\n",
       "      <td>Utils</td>\n",
       "      <td>0.444585</td>\n",
       "      <td>0.538086</td>\n",
       "    </tr>\n",
       "    <tr>\n",
       "      <th>9</th>\n",
       "      <td>Other</td>\n",
       "      <td>-0.387135</td>\n",
       "      <td>1.207309</td>\n",
       "    </tr>\n",
       "  </tbody>\n",
       "</table>\n",
       "</div>"
      ],
      "text/plain": [
       "  Industry  Intercept     Slope\n",
       "0    NoDur   0.369443  0.652647\n",
       "1    Durbl  -0.415599  1.648536\n",
       "2    Manuf   0.159771  1.169846\n",
       "3    Enrgy   0.501719  0.969850\n",
       "4    HiTec  -0.064020  1.132969\n",
       "5    Telcm   0.194691  0.900729\n",
       "6    Shops   0.275492  0.826492\n",
       "7     Hlth   0.237841  0.673036\n",
       "8    Utils   0.444585  0.538086\n",
       "9    Other  -0.387135  1.207309"
      ]
     },
     "execution_count": 6,
     "metadata": {},
     "output_type": "execute_result"
    }
   ],
   "source": [
    "#Regressing and creating table to show intercept and slope\n",
    "regressionList = []\n",
    "x = mktData2['Market']\n",
    "x = sm.add_constant(x)\n",
    "for temp in industryData2.columns:\n",
    "    if ( temp != 'Date'):\n",
    "        y  = industryData2[str(temp)]      \n",
    "        result = sm.OLS(y, x).fit()\n",
    "        tempIntercept = result.params['const']\n",
    "        tempSlope = result.params['Market']\n",
    "        regressionList.append([str(temp),tempIntercept,tempSlope])\n",
    "\n",
    "regressionDf = pd.DataFrame(data = regressionList, columns = ['Industry','Intercept','Slope'])\n",
    "regressionDf"
   ]
  },
  {
   "cell_type": "markdown",
   "id": "e96d93f9",
   "metadata": {},
   "source": [
    "***Q: Briefly explain the economic significance of the intercept and slope coefficients***"
   ]
  },
  {
   "cell_type": "markdown",
   "id": "74715293",
   "metadata": {},
   "source": [
    "<u>Answer</u><br>\n",
    "The intercept shows a \"pricing error\" for the individual assets or passive portfolios which is the difference between the expected excess return on the security/passive porfolio and the actual return. The slope coefficient shows the portfolio's estimated exposure to the systematic risk."
   ]
  },
  {
   "cell_type": "markdown",
   "id": "dcc4f5d2",
   "metadata": {},
   "source": [
    "***Q: Calculate the mean monthly return for each of the ten industry portfolios, as well as the market portfolio***"
   ]
  },
  {
   "cell_type": "code",
   "execution_count": 7,
   "id": "a3a91494",
   "metadata": {},
   "outputs": [
    {
     "data": {
      "text/plain": [
       "NoDur     0.902833\n",
       "Durbl     0.733333\n",
       "Manuf     1.012833\n",
       "Enrgy     1.231167\n",
       "HiTec     0.766250\n",
       "Telcm     0.881417\n",
       "Shops     0.916333\n",
       "Hlth      0.783833\n",
       "Utils     0.907167\n",
       "Other     0.489083\n",
       "Market    0.748083\n",
       "dtype: float64"
      ]
     },
     "execution_count": 7,
     "metadata": {},
     "output_type": "execute_result"
    }
   ],
   "source": [
    "#mean monthly return\n",
    "combinedDf = pd.concat([industryData,mktData['Market']], axis = 1)\n",
    "meanReturn = combinedDf.loc[:,\"NoDur\":].mean()\n",
    "meanReturn"
   ]
  },
  {
   "cell_type": "markdown",
   "id": "1520bc03",
   "metadata": {},
   "source": [
    "***Q: Regress the mean monthly returns of the ten industry portfolios and the market portfolio on the corresponding β (by construction, the market portfolio has β of one). This will give you the intercept and slope coefficients for the SML. (Warning: the results may be very different from what you would expect!)***"
   ]
  },
  {
   "cell_type": "code",
   "execution_count": 8,
   "id": "d973799d",
   "metadata": {},
   "outputs": [
    {
     "name": "stdout",
     "output_type": "stream",
     "text": [
      "The respective intercept and slope coefficients for the SML is 1.0327683682657058 -0.18546745836573297 respectively\n"
     ]
    },
    {
     "name": "stderr",
     "output_type": "stream",
     "text": [
      "<ipython-input-8-a3f0e4c80350>:3: SettingWithCopyWarning: \n",
      "A value is trying to be set on a copy of a slice from a DataFrame\n",
      "\n",
      "See the caveats in the documentation: https://pandas.pydata.org/pandas-docs/stable/user_guide/indexing.html#returning-a-view-versus-a-copy\n",
      "  tempRegSeries[10] = 1\n",
      "/Users/gab/opt/anaconda3/lib/python3.8/site-packages/statsmodels/tsa/tsatools.py:142: FutureWarning: In a future version of pandas all arguments of concat except for the argument 'objs' will be keyword-only\n",
      "  x = pd.concat(x[::order], 1)\n"
     ]
    }
   ],
   "source": [
    "#Setting beta of market portfolio\n",
    "tempRegSeries = regressionDf['Slope']\n",
    "tempRegSeries[10] = 1\n",
    "\n",
    "#Regressing mean monthly return to beta\n",
    "x = tempRegSeries\n",
    "x = sm.add_constant(x)\n",
    "y = meanReturn.tolist()\n",
    "result2 = sm.OLS(y, x).fit()\n",
    "tempIntercept = result2.params['const']\n",
    "tempSlope = result2.params['Slope']\n",
    "\n",
    "# Intercept and slope Coeff\n",
    "print (\"The respective intercept and slope coefficients for the SML is \" + str(tempIntercept) + \" \" + str(tempSlope) + \" respectively\")\n"
   ]
  },
  {
   "cell_type": "markdown",
   "id": "62774f4e",
   "metadata": {},
   "source": [
    "***Q: Using the estimated intercept and slope coefficients for the SML, plot the SML in the range of β from zero to two on the horizontal axis. Also plot the positions of the ten industry portfolios and the market portfolio. (You are NOT required to label the individual portfolios.)***"
   ]
  },
  {
   "cell_type": "code",
   "execution_count": 9,
   "id": "dc6bf296",
   "metadata": {},
   "outputs": [
    {
     "name": "stderr",
     "output_type": "stream",
     "text": [
      "<ipython-input-9-2cd09f7bb5bd>:15: MatplotlibDeprecationWarning: Adding an axes using the same arguments as a previous axes currently reuses the earlier instance.  In a future version, a new instance will always be created and returned.  Meanwhile, this warning can be suppressed, and the future behavior ensured, by passing a unique label to each axes instance.\n",
      "  plt.axes()\n"
     ]
    },
    {
     "data": {
      "image/png": "[encoded data removed]",
      "text/plain": [
       "<Figure size 720x432 with 1 Axes>"
      ]
     },
     "metadata": {
      "needs_background": "light"
     },
     "output_type": "display_data"
    }
   ],
   "source": [
    "#ploting SML and positions of portfolios\n",
    "tempy = 2 * tempSlope + tempIntercept\n",
    "smlx = [0, 2]\n",
    "smly = [tempIntercept,tempy]\n",
    "plt.figure(figsize = (10, 6))\n",
    "plt.plot(smlx,smly)\n",
    "\n",
    "plt.scatter(tempRegSeries, meanReturn, color = 'red')\n",
    "\n",
    "#Making the graph more presentable\n",
    "plt.xlabel(\"Beta\")\n",
    "plt.ylabel(\"R\")\n",
    "axes = plt.gca()\n",
    "axes.set_xlim([0,2])\n",
    "plt.axes()\n",
    "plt.grid()"
   ]
  },
  {
   "cell_type": "markdown",
   "id": "4cea0cd2",
   "metadata": {},
   "source": [
    "***Q: Briefly explain the economic significance of the SML***"
   ]
  },
  {
   "cell_type": "markdown",
   "id": "38483525",
   "metadata": {},
   "source": [
    "<u>Answer</u><br>\n",
    "The SML shows investors all possible combinations of n risky assets and riskless asset in the financial market. The slope of the SML represents the ratio of risk return to beta (also known as the Treynor ratio). And lastly, in the long run, investors will only trade assets on the SML as overpriced or underpriced assets will eventually fall back to equilibrium on the SML through demand and supply of the assets"
   ]
  }
 ],
 "metadata": {
  "kernelspec": {
   "display_name": "Python 3",
   "language": "python",
   "name": "python3"
  },
  "language_info": {
   "codemirror_mode": {
    "name": "ipython",
    "version": 3
   },
   "file_extension": ".py",
   "mimetype": "text/x-python",
   "name": "python",
   "nbconvert_exporter": "python",
   "pygments_lexer": "ipython3",
   "version": "3.8.8"
  }
 },
 "nbformat": 4,
 "nbformat_minor": 5
}
