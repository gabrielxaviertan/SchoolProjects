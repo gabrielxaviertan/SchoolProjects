{
 "cells": [
  {
   "cell_type": "code",
   "execution_count": 1,
   "id": "482dc76a",
   "metadata": {},
   "outputs": [],
   "source": [
    "import numpy as np\n",
    "import matplotlib.pyplot as plt\n",
    "import pandas as pd\n",
    "import statsmodels.api as sm\n",
    "\n",
    "%matplotlib inline"
   ]
  },
  {
   "cell_type": "code",
   "execution_count": 2,
   "id": "0b9da9a6",
   "metadata": {},
   "outputs": [
    {
     "name": "stderr",
     "output_type": "stream",
     "text": [
      "/Users/gab/opt/anaconda3/lib/python3.8/site-packages/openpyxl/worksheet/_reader.py:312: UserWarning: Unknown extension is not supported and will be removed\n",
      "  warn(msg)\n"
     ]
    }
   ],
   "source": [
    "riskFactors = pd.read_excel(\"Risk_Factors.xlsx\")\n",
    "industryPort = pd.read_excel(\"Industry_Portfolios.xlsx\")"
   ]
  },
  {
   "cell_type": "code",
   "execution_count": 3,
   "id": "91da1e55",
   "metadata": {},
   "outputs": [
    {
     "data": {
      "text/html": [
       "<div>\n",
       "<style scoped>\n",
       "    .dataframe tbody tr th:only-of-type {\n",
       "        vertical-align: middle;\n",
       "    }\n",
       "\n",
       "    .dataframe tbody tr th {\n",
       "        vertical-align: top;\n",
       "    }\n",
       "\n",
       "    .dataframe thead th {\n",
       "        text-align: right;\n",
       "    }\n",
       "</style>\n",
       "<table border=\"1\" class=\"dataframe\">\n",
       "  <thead>\n",
       "    <tr style=\"text-align: right;\">\n",
       "      <th></th>\n",
       "      <th>Date</th>\n",
       "      <th>Rf</th>\n",
       "      <th>Rm-Rf</th>\n",
       "      <th>SMB</th>\n",
       "      <th>HML</th>\n",
       "    </tr>\n",
       "  </thead>\n",
       "  <tbody>\n",
       "    <tr>\n",
       "      <th>0</th>\n",
       "      <td>200401</td>\n",
       "      <td>0.07</td>\n",
       "      <td>2.15</td>\n",
       "      <td>2.67</td>\n",
       "      <td>1.55</td>\n",
       "    </tr>\n",
       "    <tr>\n",
       "      <th>1</th>\n",
       "      <td>200402</td>\n",
       "      <td>0.06</td>\n",
       "      <td>1.40</td>\n",
       "      <td>-1.17</td>\n",
       "      <td>0.45</td>\n",
       "    </tr>\n",
       "    <tr>\n",
       "      <th>2</th>\n",
       "      <td>200403</td>\n",
       "      <td>0.09</td>\n",
       "      <td>-1.32</td>\n",
       "      <td>1.84</td>\n",
       "      <td>0.07</td>\n",
       "    </tr>\n",
       "    <tr>\n",
       "      <th>3</th>\n",
       "      <td>200404</td>\n",
       "      <td>0.08</td>\n",
       "      <td>-1.83</td>\n",
       "      <td>-2.59</td>\n",
       "      <td>-1.67</td>\n",
       "    </tr>\n",
       "    <tr>\n",
       "      <th>4</th>\n",
       "      <td>200405</td>\n",
       "      <td>0.06</td>\n",
       "      <td>1.17</td>\n",
       "      <td>-0.10</td>\n",
       "      <td>-0.33</td>\n",
       "    </tr>\n",
       "  </tbody>\n",
       "</table>\n",
       "</div>"
      ],
      "text/plain": [
       "     Date    Rf  Rm-Rf   SMB   HML\n",
       "0  200401  0.07   2.15  2.67  1.55\n",
       "1  200402  0.06   1.40 -1.17  0.45\n",
       "2  200403  0.09  -1.32  1.84  0.07\n",
       "3  200404  0.08  -1.83 -2.59 -1.67\n",
       "4  200405  0.06   1.17 -0.10 -0.33"
      ]
     },
     "execution_count": 3,
     "metadata": {},
     "output_type": "execute_result"
    }
   ],
   "source": [
    "riskFactors.head()"
   ]
  },
  {
   "cell_type": "code",
   "execution_count": 4,
   "id": "b4e683b8",
   "metadata": {
    "scrolled": true
   },
   "outputs": [
    {
     "data": {
      "text/html": [
       "<div>\n",
       "<style scoped>\n",
       "    .dataframe tbody tr th:only-of-type {\n",
       "        vertical-align: middle;\n",
       "    }\n",
       "\n",
       "    .dataframe tbody tr th {\n",
       "        vertical-align: top;\n",
       "    }\n",
       "\n",
       "    .dataframe thead th {\n",
       "        text-align: right;\n",
       "    }\n",
       "</style>\n",
       "<table border=\"1\" class=\"dataframe\">\n",
       "  <thead>\n",
       "    <tr style=\"text-align: right;\">\n",
       "      <th></th>\n",
       "      <th>Date</th>\n",
       "      <th>NoDur</th>\n",
       "      <th>Durbl</th>\n",
       "      <th>Manuf</th>\n",
       "      <th>Enrgy</th>\n",
       "      <th>HiTec</th>\n",
       "      <th>Telcm</th>\n",
       "      <th>Shops</th>\n",
       "      <th>Hlth</th>\n",
       "      <th>Utils</th>\n",
       "      <th>Other</th>\n",
       "    </tr>\n",
       "  </thead>\n",
       "  <tbody>\n",
       "    <tr>\n",
       "      <th>0</th>\n",
       "      <td>200401</td>\n",
       "      <td>0.06</td>\n",
       "      <td>-1.07</td>\n",
       "      <td>-0.62</td>\n",
       "      <td>0.44</td>\n",
       "      <td>4.53</td>\n",
       "      <td>1.41</td>\n",
       "      <td>0.45</td>\n",
       "      <td>3.09</td>\n",
       "      <td>1.92</td>\n",
       "      <td>2.88</td>\n",
       "    </tr>\n",
       "    <tr>\n",
       "      <th>1</th>\n",
       "      <td>200402</td>\n",
       "      <td>4.25</td>\n",
       "      <td>-0.07</td>\n",
       "      <td>1.95</td>\n",
       "      <td>4.69</td>\n",
       "      <td>-2.92</td>\n",
       "      <td>-0.52</td>\n",
       "      <td>6.09</td>\n",
       "      <td>0.89</td>\n",
       "      <td>2.07</td>\n",
       "      <td>2.16</td>\n",
       "    </tr>\n",
       "    <tr>\n",
       "      <th>2</th>\n",
       "      <td>200403</td>\n",
       "      <td>-0.09</td>\n",
       "      <td>-1.15</td>\n",
       "      <td>-0.27</td>\n",
       "      <td>-0.13</td>\n",
       "      <td>-2.55</td>\n",
       "      <td>-2.07</td>\n",
       "      <td>0.29</td>\n",
       "      <td>-3.96</td>\n",
       "      <td>1.13</td>\n",
       "      <td>-0.63</td>\n",
       "    </tr>\n",
       "    <tr>\n",
       "      <th>3</th>\n",
       "      <td>200404</td>\n",
       "      <td>1.42</td>\n",
       "      <td>2.30</td>\n",
       "      <td>-0.17</td>\n",
       "      <td>2.52</td>\n",
       "      <td>-4.91</td>\n",
       "      <td>-0.48</td>\n",
       "      <td>-2.70</td>\n",
       "      <td>3.54</td>\n",
       "      <td>-3.55</td>\n",
       "      <td>-3.76</td>\n",
       "    </tr>\n",
       "    <tr>\n",
       "      <th>4</th>\n",
       "      <td>200405</td>\n",
       "      <td>-1.89</td>\n",
       "      <td>-1.64</td>\n",
       "      <td>1.61</td>\n",
       "      <td>0.39</td>\n",
       "      <td>4.85</td>\n",
       "      <td>-2.95</td>\n",
       "      <td>0.30</td>\n",
       "      <td>-0.42</td>\n",
       "      <td>1.28</td>\n",
       "      <td>1.86</td>\n",
       "    </tr>\n",
       "  </tbody>\n",
       "</table>\n",
       "</div>"
      ],
      "text/plain": [
       "     Date  NoDur  Durbl  Manuf  Enrgy  HiTec  Telcm  Shops  Hlth  Utils  Other\n",
       "0  200401   0.06  -1.07  -0.62   0.44   4.53   1.41   0.45  3.09   1.92   2.88\n",
       "1  200402   4.25  -0.07   1.95   4.69  -2.92  -0.52   6.09  0.89   2.07   2.16\n",
       "2  200403  -0.09  -1.15  -0.27  -0.13  -2.55  -2.07   0.29 -3.96   1.13  -0.63\n",
       "3  200404   1.42   2.30  -0.17   2.52  -4.91  -0.48  -2.70  3.54  -3.55  -3.76\n",
       "4  200405  -1.89  -1.64   1.61   0.39   4.85  -2.95   0.30 -0.42   1.28   1.86"
      ]
     },
     "execution_count": 4,
     "metadata": {},
     "output_type": "execute_result"
    }
   ],
   "source": [
    "industryPort.head()"
   ]
  },
  {
   "cell_type": "code",
   "execution_count": 5,
   "id": "08588bca",
   "metadata": {},
   "outputs": [],
   "source": [
    "#Minus risk-free rate for all portfolios in all months\n",
    "industryPort.loc[:,'NoDur':] = industryPort.loc[:,'NoDur':].apply(lambda x: x - riskFactors.loc[:,'Rf'] )"
   ]
  },
  {
   "cell_type": "code",
   "execution_count": 6,
   "id": "ce85ac38",
   "metadata": {
    "scrolled": true
   },
   "outputs": [
    {
     "name": "stderr",
     "output_type": "stream",
     "text": [
      "/Users/gab/opt/anaconda3/lib/python3.8/site-packages/statsmodels/tsa/tsatools.py:142: FutureWarning: In a future version of pandas all arguments of concat except for the argument 'objs' will be keyword-only\n",
      "  x = pd.concat(x[::order], 1)\n"
     ]
    }
   ],
   "source": [
    "#Creating empty dataframe with the 10 portfolios as index\n",
    "tempIndex = industryPort.columns[1:]\n",
    "portMetric = pd.DataFrame(index = tempIndex)\n",
    "\n",
    "#Calculating Jensen Alpha\n",
    "capmList = []\n",
    "x = riskFactors['Rm-Rf']\n",
    "x = sm.add_constant(x)\n",
    "for temp in industryPort.columns:\n",
    "    if ( temp != 'Date'):\n",
    "        y  = industryPort[str(temp)]      \n",
    "        result = sm.OLS(y, x).fit()\n",
    "        tempIntercept = result.params['const']\n",
    "        tempSlope = result.params['Rm-Rf']\n",
    "        capmList.append([tempIntercept,tempSlope])\n",
    "\n",
    "capmDf = pd.DataFrame(data = capmList, columns = ['Alpha','Beta'],index = tempIndex)\n",
    "portMetric['JensenAlpha'] = capmDf.loc[:,'Alpha']\n",
    "\n",
    "#Treynor ratio\n",
    "portMetric['TreynorRatio'] = industryPort.loc[:,'NoDur':].mean() / capmDf.loc[:,'Beta']\n",
    "\n",
    "#Calculating Sharpe Ratio\n",
    "sharpeRatio = industryPort.loc[:,'NoDur':].mean() / industryPort.loc[:,'NoDur':].std()\n",
    "portMetric['SharpeRatio'] = sharpeRatio\n",
    "\n",
    "#Calculating Fama-French 3 Factor Alpha\n",
    "ffList = []\n",
    "x = riskFactors[['Rm-Rf','SMB','HML']]\n",
    "x = sm.add_constant(x)\n",
    "for temp in industryPort.columns:\n",
    "    if ( temp != 'Date'):\n",
    "        y  = industryPort[str(temp)]      \n",
    "        result = sm.OLS(y, x).fit()\n",
    "        tempIntercept = result.params['const']\n",
    "        tempSlope = result.params['Rm-Rf']\n",
    "        ffList.append([tempIntercept,tempSlope])\n",
    "        predictions= result.summary()\n",
    "\n",
    "ffDf = pd.DataFrame(data = ffList, columns = ['Alpha','Beta'],index = tempIndex)\n",
    "portMetric['ThreeFactorAlpha'] = ffDf.loc[:,'Alpha']\n",
    "\n",
    "#Calculating Sortino Ratio\n",
    "minDiffDf = industryPort.copy()\n",
    "minDiffDf.loc[:,'NoDur':] = np.where(minDiffDf.loc[:,'NoDur':] < 0,minDiffDf.loc[:,'NoDur':]**2,0 )\n",
    "sampleSemiVar = minDiffDf.loc[:,'NoDur':].sum() / 120\n",
    "portMetric['SortinoRatio'] = industryPort.loc[:,'NoDur':].mean() / np.sqrt(sampleSemiVar)\n"
   ]
  },
  {
   "cell_type": "markdown",
   "id": "15542419",
   "metadata": {},
   "source": [
    "**Q: Create a table showing the performance metrics for the ten industry portfolios.**"
   ]
  },
  {
   "cell_type": "code",
   "execution_count": 7,
   "id": "cd7da32a",
   "metadata": {},
   "outputs": [
    {
     "data": {
      "text/html": [
       "<div>\n",
       "<style scoped>\n",
       "    .dataframe tbody tr th:only-of-type {\n",
       "        vertical-align: middle;\n",
       "    }\n",
       "\n",
       "    .dataframe tbody tr th {\n",
       "        vertical-align: top;\n",
       "    }\n",
       "\n",
       "    .dataframe thead th {\n",
       "        text-align: right;\n",
       "    }\n",
       "</style>\n",
       "<table border=\"1\" class=\"dataframe\">\n",
       "  <thead>\n",
       "    <tr style=\"text-align: right;\">\n",
       "      <th></th>\n",
       "      <th>JensenAlpha</th>\n",
       "      <th>TreynorRatio</th>\n",
       "      <th>SharpeRatio</th>\n",
       "      <th>ThreeFactorAlpha</th>\n",
       "      <th>SortinoRatio</th>\n",
       "    </tr>\n",
       "  </thead>\n",
       "  <tbody>\n",
       "    <tr>\n",
       "      <th>NoDur</th>\n",
       "      <td>0.369717</td>\n",
       "      <td>1.186372</td>\n",
       "      <td>0.231099</td>\n",
       "      <td>0.386704</td>\n",
       "      <td>0.350804</td>\n",
       "    </tr>\n",
       "    <tr>\n",
       "      <th>Durbl</th>\n",
       "      <td>-0.417903</td>\n",
       "      <td>0.367463</td>\n",
       "      <td>0.072356</td>\n",
       "      <td>-0.474342</td>\n",
       "      <td>0.111967</td>\n",
       "    </tr>\n",
       "    <tr>\n",
       "      <th>Manuf</th>\n",
       "      <td>0.160494</td>\n",
       "      <td>0.758251</td>\n",
       "      <td>0.166616</td>\n",
       "      <td>0.153285</td>\n",
       "      <td>0.241260</td>\n",
       "    </tr>\n",
       "    <tr>\n",
       "      <th>Enrgy</th>\n",
       "      <td>0.504485</td>\n",
       "      <td>1.143330</td>\n",
       "      <td>0.181708</td>\n",
       "      <td>0.523007</td>\n",
       "      <td>0.273612</td>\n",
       "    </tr>\n",
       "    <tr>\n",
       "      <th>HiTec</th>\n",
       "      <td>-0.064024</td>\n",
       "      <td>0.564295</td>\n",
       "      <td>0.118552</td>\n",
       "      <td>-0.065979</td>\n",
       "      <td>0.170620</td>\n",
       "    </tr>\n",
       "    <tr>\n",
       "      <th>Telcm</th>\n",
       "      <td>0.194348</td>\n",
       "      <td>0.836363</td>\n",
       "      <td>0.169064</td>\n",
       "      <td>0.200724</td>\n",
       "      <td>0.244940</td>\n",
       "    </tr>\n",
       "    <tr>\n",
       "      <th>Shops</th>\n",
       "      <td>0.274093</td>\n",
       "      <td>0.951258</td>\n",
       "      <td>0.191753</td>\n",
       "      <td>0.255941</td>\n",
       "      <td>0.293032</td>\n",
       "    </tr>\n",
       "    <tr>\n",
       "      <th>Hlth</th>\n",
       "      <td>0.236968</td>\n",
       "      <td>0.971435</td>\n",
       "      <td>0.172529</td>\n",
       "      <td>0.257472</td>\n",
       "      <td>0.270294</td>\n",
       "    </tr>\n",
       "    <tr>\n",
       "      <th>Utils</th>\n",
       "      <td>0.446523</td>\n",
       "      <td>1.452334</td>\n",
       "      <td>0.210948</td>\n",
       "      <td>0.474411</td>\n",
       "      <td>0.290044</td>\n",
       "    </tr>\n",
       "    <tr>\n",
       "      <th>Other</th>\n",
       "      <td>-0.387508</td>\n",
       "      <td>0.299781</td>\n",
       "      <td>0.064693</td>\n",
       "      <td>-0.404412</td>\n",
       "      <td>0.087351</td>\n",
       "    </tr>\n",
       "  </tbody>\n",
       "</table>\n",
       "</div>"
      ],
      "text/plain": [
       "       JensenAlpha  TreynorRatio  SharpeRatio  ThreeFactorAlpha  SortinoRatio\n",
       "NoDur     0.369717      1.186372     0.231099          0.386704      0.350804\n",
       "Durbl    -0.417903      0.367463     0.072356         -0.474342      0.111967\n",
       "Manuf     0.160494      0.758251     0.166616          0.153285      0.241260\n",
       "Enrgy     0.504485      1.143330     0.181708          0.523007      0.273612\n",
       "HiTec    -0.064024      0.564295     0.118552         -0.065979      0.170620\n",
       "Telcm     0.194348      0.836363     0.169064          0.200724      0.244940\n",
       "Shops     0.274093      0.951258     0.191753          0.255941      0.293032\n",
       "Hlth      0.236968      0.971435     0.172529          0.257472      0.270294\n",
       "Utils     0.446523      1.452334     0.210948          0.474411      0.290044\n",
       "Other    -0.387508      0.299781     0.064693         -0.404412      0.087351"
      ]
     },
     "execution_count": 7,
     "metadata": {},
     "output_type": "execute_result"
    }
   ],
   "source": [
    "portMetric"
   ]
  },
  {
   "cell_type": "markdown",
   "id": "1cce6b44",
   "metadata": {},
   "source": [
    "**Sharpe ratio**"
   ]
  },
  {
   "cell_type": "code",
   "execution_count": 8,
   "id": "3298e71d",
   "metadata": {},
   "outputs": [
    {
     "data": {
      "text/plain": [
       "<AxesSubplot:title={'center':'Sharpe Ratio'}>"
      ]
     },
     "execution_count": 8,
     "metadata": {},
     "output_type": "execute_result"
    },
    {
     "data": {
      "image/png": "[encoded data removed]",
      "text/plain": [
       "<Figure size 1080x360 with 1 Axes>"
      ]
     },
     "metadata": {
      "needs_background": "light"
     },
     "output_type": "display_data"
    }
   ],
   "source": [
    "portMetric['SharpeRatio'].plot(kind = 'bar', title = 'Sharpe Ratio', figsize = (15,5))"
   ]
  },
  {
   "cell_type": "markdown",
   "id": "4144dc9f",
   "metadata": {},
   "source": [
    "<u>Economic Signifiance</u><br>\n",
    "Sharpe ratio measure the additional excess return per unit of risk taken in the portfolio"
   ]
  },
  {
   "cell_type": "markdown",
   "id": "2f0f185c",
   "metadata": {},
   "source": [
    "**Sortino ratio**"
   ]
  },
  {
   "cell_type": "code",
   "execution_count": 9,
   "id": "d17b3622",
   "metadata": {},
   "outputs": [
    {
     "data": {
      "text/plain": [
       "<AxesSubplot:title={'center':'Sortino Ratio'}>"
      ]
     },
     "execution_count": 9,
     "metadata": {},
     "output_type": "execute_result"
    },
    {
     "data": {
      "image/png": "[encoded data removed]",
      "text/plain": [
       "<Figure size 1080x360 with 1 Axes>"
      ]
     },
     "metadata": {
      "needs_background": "light"
     },
     "output_type": "display_data"
    }
   ],
   "source": [
    "portMetric['SortinoRatio'].plot(kind = 'bar', title = 'Sortino Ratio', figsize = (15,5), color = 'olive')"
   ]
  },
  {
   "cell_type": "markdown",
   "id": "3542d02b",
   "metadata": {},
   "source": [
    "<u>Economic Signifiance</u><br>\n",
    "Sortino ratio measures the additional excess return per additional unit of down-side risk taken by the investor. This ratio also provides a way to distinguish asymmetric and non-normal return"
   ]
  },
  {
   "cell_type": "markdown",
   "id": "95ed55b3",
   "metadata": {},
   "source": [
    "**Treynor ratio**"
   ]
  },
  {
   "cell_type": "code",
   "execution_count": 10,
   "id": "d854c9fd",
   "metadata": {},
   "outputs": [
    {
     "data": {
      "text/plain": [
       "<AxesSubplot:title={'center':'Treynor Ratio'}>"
      ]
     },
     "execution_count": 10,
     "metadata": {},
     "output_type": "execute_result"
    },
    {
     "data": {
      "image/png": "[encoded data removed]",
      "text/plain": [
       "<Figure size 1080x360 with 1 Axes>"
      ]
     },
     "metadata": {
      "needs_background": "light"
     },
     "output_type": "display_data"
    }
   ],
   "source": [
    "portMetric['TreynorRatio'].plot(kind = 'bar', title = 'Treynor Ratio', figsize = (15,5), color = 'maroon')"
   ]
  },
  {
   "cell_type": "markdown",
   "id": "7f7358d7",
   "metadata": {},
   "source": [
    "<u>Economic Signifiance</u><br>\n",
    "Treynor ratio measure the additional excess return per unit of systematic/market risk taken in the portfolio"
   ]
  },
  {
   "cell_type": "markdown",
   "id": "f1830bcb",
   "metadata": {},
   "source": [
    "**Jensen's α (alpha)**"
   ]
  },
  {
   "cell_type": "code",
   "execution_count": 11,
   "id": "757fecd8",
   "metadata": {},
   "outputs": [
    {
     "data": {
      "text/plain": [
       "<AxesSubplot:title={'center':'Jensen Alpha'}>"
      ]
     },
     "execution_count": 11,
     "metadata": {},
     "output_type": "execute_result"
    },
    {
     "data": {
      "image/png": "[encoded data removed]",
      "text/plain": [
       "<Figure size 1080x360 with 1 Axes>"
      ]
     },
     "metadata": {
      "needs_background": "light"
     },
     "output_type": "display_data"
    }
   ],
   "source": [
    "portMetric['JensenAlpha'].plot(kind = 'bar', title = 'Jensen Alpha', figsize = (15,5), color = 'teal')"
   ]
  },
  {
   "cell_type": "markdown",
   "id": "54de6c10",
   "metadata": {},
   "source": [
    "<u>Economic Signifiance</u><br>\n",
    "For a passive portfolio, the jensen alpha represents pricing error relative to CAPM (This error could be due to risks that are not identified with beta or the assets being overpriced or underpriced. On the other hand, for an active portfolio, the jensen alpha represents abnormal mean return after accounting for exposure to market risks - serving as a indicator to identify a portfolio manager's ability to identify overpriced or underpriced assets"
   ]
  },
  {
   "cell_type": "markdown",
   "id": "a8fde5d7",
   "metadata": {},
   "source": [
    "**Three-Factor α (alpha)**"
   ]
  },
  {
   "cell_type": "code",
   "execution_count": 12,
   "id": "e1f8e3ae",
   "metadata": {},
   "outputs": [
    {
     "data": {
      "text/plain": [
       "<AxesSubplot:title={'center':'Three Factor Alpha'}>"
      ]
     },
     "execution_count": 12,
     "metadata": {},
     "output_type": "execute_result"
    },
    {
     "data": {
      "image/png": "[encoded data removed]",
      "text/plain": [
       "<Figure size 1080x360 with 1 Axes>"
      ]
     },
     "metadata": {
      "needs_background": "light"
     },
     "output_type": "display_data"
    }
   ],
   "source": [
    "portMetric['ThreeFactorAlpha'].plot(kind = 'bar', title = 'Three Factor Alpha', figsize = (15,5), color = 'purple')"
   ]
  },
  {
   "cell_type": "markdown",
   "id": "41ab79bd",
   "metadata": {},
   "source": [
    "<u>Economic Signifiance</u><br>\n",
    "For a passive portfolio, the three-factor alpha represents pricing error relative to Fama-French three factor model. On the other hand, for an active portfolio, the three-factor alpha represents abnormal mean return after accounting for exposure to market risks,size risk and value risk - serving as a indicator to identify a portfolio manager's ability to identify overpriced or underpriced assets"
   ]
  }
 ],
 "metadata": {
  "kernelspec": {
   "display_name": "Python 3",
   "language": "python",
   "name": "python3"
  },
  "language_info": {
   "codemirror_mode": {
    "name": "ipython",
    "version": 3
   },
   "file_extension": ".py",
   "mimetype": "text/x-python",
   "name": "python",
   "nbconvert_exporter": "python",
   "pygments_lexer": "ipython3",
   "version": "3.8.8"
  }
 },
 "nbformat": 4,
 "nbformat_minor": 5
}
