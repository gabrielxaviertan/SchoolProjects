{
 "cells": [
  {
   "cell_type": "markdown",
   "source": "Black-Scholes introduced the notion of dynamic delta hedging - by executing delta hedges instantaneously, we ensure that our portfolio is delta neutral, and consequently hedged the exposure of our call position using the underlying stock and the risk-free bond. \n\nThe hedged portfolio is $V_t=\\phi_tS_t+\\psi_tB_t$, where \n\n$\n\\phi_t=\\Delta_t=\\frac{\\partial C}{\\partial S}=\\Phi\\left(\\frac{\\log\\frac{S}{K}+\\left(r+\\frac{\\sigma^2}{2}\\right)T}{\\sigma\\sqrt{T}}\\right)\n$\n\nand\n\n$\n\\psi_tB_t=-Ke^{-rT}\\Phi\\left(\\frac{\\log\\frac{S}{K}+\\left(r-\\frac{\\sigma^2}{2}\\right)T}{\\sigma\\sqrt{T}}\\right)\n$\n\nLet us start by defining these stock and bond holding functions:\n",
   "metadata": {
    "cell_id": "00000-6e02f2ba-5716-4978-9d35-4aa6cc857793",
    "deepnote_cell_type": "markdown"
   }
  },
  {
   "cell_type": "code",
   "metadata": {
    "cell_id": "00001-99a2c1c7-1da6-46b9-b8a2-20a4a2067dae",
    "deepnote_to_be_reexecuted": false,
    "source_hash": "43cde26a",
    "execution_start": 1636998904925,
    "execution_millis": 3,
    "deepnote_cell_type": "code"
   },
   "source": "from scipy.stats import norm\nimport numpy as np\nimport matplotlib.pylab as plt\n\n\ndef phi(S, K, r, sigma, T):\n    d1 = (np.log(S/K)+(r+sigma**2/2)*T) / (sigma*np.sqrt(T))\n    return norm.cdf(d1)\n\n\ndef psi_Bt(S, K, r, sigma, T):\n    d1 = (np.log(S/K)+(r+sigma**2/2)*T) / (sigma*np.sqrt(T))\n    d2 = d1 - sigma*np.sqrt(T)\n    return -K*np.exp(-r*T)*norm.cdf(d2)\n\n\ndef simulate_Brownian_Motion(paths, steps, T):\n    deltaT = T/steps\n    t = np.linspace(0, T, steps+1)\n    X = np.c_[np.zeros((paths, 1)),\n              np.random.randn(paths, steps)]\n    return t, np.cumsum(np.sqrt(deltaT) * X, axis=1)\n\ndef BlackScholesCall(S, K, r, sigma, T):\n    d1 = (np.log(S/K)+(r+sigma**2/2)*T) / (sigma*np.sqrt(T))\n    d2 = d1 - sigma*np.sqrt(T)\n    return S*norm.cdf(d1) - K*np.exp(-r*T)*norm.cdf(d2)\n",
   "outputs": [],
   "execution_count": 2
  },
  {
   "cell_type": "code",
   "metadata": {
    "cell_id": "00002-c67134c8-4ba2-4b18-a6e3-0906bd06b55a",
    "deepnote_to_be_reexecuted": false,
    "source_hash": "afb74401",
    "execution_start": 1636998908663,
    "execution_millis": 107,
    "deepnote_cell_type": "code"
   },
   "source": "paths = 50000\nsteps21 = 21\nmaturity = 1/12\n\nT21, W_T21 = simulate_Brownian_Motion(paths, steps21, maturity)\n\nr = 0.05\nS0 = 100.0\nK = 100.0\nsigma = 0.2\nblackscholespath21 = S0*np.exp((r-(sigma**2)/2)*T21 + sigma*W_T21)",
   "outputs": [],
   "execution_count": 3
  },
  {
   "cell_type": "code",
   "metadata": {
    "scrolled": false,
    "cell_id": "00003-faa2e2b4-c72b-41ae-8fbe-6c34fc3438b0",
    "deepnote_to_be_reexecuted": false,
    "source_hash": "42d9994b",
    "execution_start": 1636998912568,
    "execution_millis": 991,
    "deepnote_cell_type": "code"
   },
   "source": "totalError21 = np.zeros((paths, ))\nfor i in range(steps21):\n    stockp1 = blackscholespath21[:,i]\n    stockp2 = blackscholespath21[:,i+1]\n    phi1 = (phi(stockp1, K, r, sigma, maturity - T21[i] ) * stockp2)\n    phi2 = (phi(stockp2, K, r, sigma, maturity - T21[i+1] ) *stockp2)\n    stockError21 = phi1 - phi2\n    psi1 = (psi_Bt(stockp1, K, r, sigma, maturity - T21[i]))\n    psi2 = (psi_Bt(stockp2, K, r, sigma, maturity - T21[i+1]))\n    bondError21 = psi1*np.exp(r*maturity/steps21)-psi2\n    totalError21 += (stockError21 + bondError21)\n#totalError21 = totalError21 - np.maximum(blackscholespath84[:,steps]-K,0)\n#totalError21 += BlackScholesCall(S0, K, r, sigma, maturity)\n\nplt.hist(totalError21,bins = np.linspace(-1.5,1.5,40))\nplt.xlabel('Hedging Error')\nplt.ylabel('Frequency')\nplt.title('HedgeError after hedging 21 Times')\nplt.show()",
   "outputs": [
    {
     "name": "stderr",
     "text": "/shared-libs/python3.7/py-core/lib/python3.7/site-packages/ipykernel_launcher.py:7: RuntimeWarning: divide by zero encountered in true_divide\n  import sys\n/shared-libs/python3.7/py-core/lib/python3.7/site-packages/ipykernel_launcher.py:12: RuntimeWarning: divide by zero encountered in true_divide\n  if sys.path[0] == '':\n",
     "output_type": "stream"
    },
    {
     "data": {
      "text/plain": "<Figure size 432x288 with 1 Axes>",
      "image/png": "[encoded data removed]"
     },
     "metadata": {
      "needs_background": "light",
      "image/png": {
       "width": 395,
       "height": 278
      }
     },
     "output_type": "display_data"
    }
   ],
   "execution_count": 4
  },
  {
   "cell_type": "code",
   "metadata": {
    "cell_id": "00004-806d2d81-ea37-41ba-b231-7085b7e0683c",
    "deepnote_to_be_reexecuted": false,
    "source_hash": "2ca6d137",
    "execution_start": 1636998917860,
    "execution_millis": 744,
    "deepnote_cell_type": "code"
   },
   "source": "paths = 50000\nsteps84 = 84\nmaturity = 1/12\n\nT84, W_T84 = simulate_Brownian_Motion(paths, steps84, maturity)\nblackscholespath84 = S0*np.exp((r-sigma**2/2)*T84 + sigma*W_T84)",
   "outputs": [],
   "execution_count": 5
  },
  {
   "cell_type": "code",
   "metadata": {
    "scrolled": true,
    "cell_id": "00005-5d5acac4-9b2e-417d-a81f-9d4362c136b3",
    "deepnote_to_be_reexecuted": false,
    "source_hash": "e1b44c85",
    "execution_start": 1636998920157,
    "execution_millis": 2364,
    "deepnote_cell_type": "code"
   },
   "source": "totalError84 = np.zeros((paths, ))\nfor i in range(steps84):\n    stockp1 = blackscholespath84[:,i]\n    stockp2 = blackscholespath84[:,i+1]\n    phi1 = (phi(stockp1, K, r, sigma, maturity - T84[i] ) * stockp2)\n    phi2 = (phi(stockp2, K, r, sigma, maturity - T84[i+1] ) *stockp2)\n    stockError84 = phi1 - phi2\n    psi1 = (psi_Bt(stockp1, K, r, sigma, maturity - T84[i]))\n    psi2 = (psi_Bt(stockp2, K, r, sigma, maturity - T84[i+1]))\n    bondError84 = psi1*np.exp(r*maturity/steps84)-psi2\n    totalError84 += (stockError84 + bondError84)\n#totalError84 = totalError84 - np.maximum(blackscholespath84[:,steps]-K,0)\n#totalError84 += BlackScholesCall(S0, K, r, sigma, maturity)\n\nplt.hist(totalError84,bins = np.linspace(-1.5,1.5,40))\nplt.xlabel('Hedging Error')\nplt.ylabel('Frequency')\nplt.title('HedgeError after hedging 84 Times')\nplt.show()",
   "outputs": [
    {
     "name": "stderr",
     "text": "/shared-libs/python3.7/py-core/lib/python3.7/site-packages/ipykernel_launcher.py:7: RuntimeWarning: divide by zero encountered in true_divide\n  import sys\n/shared-libs/python3.7/py-core/lib/python3.7/site-packages/ipykernel_launcher.py:12: RuntimeWarning: divide by zero encountered in true_divide\n  if sys.path[0] == '':\n",
     "output_type": "stream"
    },
    {
     "data": {
      "text/plain": "<Figure size 432x288 with 1 Axes>",
      "image/png": "[encoded data removed]"
     },
     "metadata": {
      "needs_background": "light",
      "image/png": {
       "width": 395,
       "height": 278
      }
     },
     "output_type": "display_data"
    }
   ],
   "execution_count": 6
  },
  {
   "cell_type": "code",
   "metadata": {
    "tags": [],
    "cell_id": "00006-1127754f-ecfa-422b-a474-047682a83b3c",
    "deepnote_cell_type": "code"
   },
   "source": "",
   "execution_count": null,
   "outputs": []
  },
  {
   "cell_type": "markdown",
   "source": "<a style='text-decoration:none;line-height:16px;display:flex;color:#5B5B62;padding:10px;justify-content:end;' href='https://deepnote.com?utm_source=created-in-deepnote-cell&projectId=84dba4f4-47dd-4672-95f1-e2f4f6eed8bc' target=\"_blank\">\n<img alt='Created in deepnote.com' style='display:inline;max-height:16px;margin:0px;margin-right:7.5px;' src='data:image/svg+xml;base64,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' > </img>\nCreated in <span style='font-weight:600;margin-left:4px;'>Deepnote</span></a>",
   "metadata": {
    "tags": [],
    "created_in_deepnote_cell": true,
    "deepnote_cell_type": "markdown"
   }
  }
 ],
 "nbformat": 4,
 "nbformat_minor": 2,
 "metadata": {
  "kernelspec": {
   "display_name": "Python 3",
   "language": "python",
   "name": "python3"
  },
  "language_info": {
   "codemirror_mode": {
    "name": "ipython",
    "version": 3
   },
   "file_extension": ".py",
   "mimetype": "text/x-python",
   "name": "python",
   "nbconvert_exporter": "python",
   "pygments_lexer": "ipython3",
   "version": "3.8.8"
  },
  "deepnote_notebook_id": "21845be8-b820-4cb2-8ac4-53b03b36e44c",
  "deepnote": {},
  "deepnote_execution_queue": []
 }
}
