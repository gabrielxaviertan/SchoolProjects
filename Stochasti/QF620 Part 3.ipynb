{
 "cells": [
  {
   "cell_type": "code",
   "metadata": {
    "tags": [],
    "cell_id": "00000-2406e7cd-c904-42b2-8a65-216e0600a123",
    "deepnote_to_be_reexecuted": false,
    "source_hash": "1cbdba81",
    "execution_start": 1636709802586,
    "execution_millis": 1085,
    "deepnote_cell_type": "code"
   },
   "source": "import numpy as np\nimport pandas as pd\nfrom scipy.misc import derivative\nfrom scipy.stats import norm\nfrom scipy.integrate import quad",
   "outputs": [],
   "execution_count": null
  },
  {
   "cell_type": "markdown",
   "source": "`Payoff function`\n\n$\nh(S_T) = S_T^{\\frac{1}{3}} + 1.5log(S_T) + 10.0\n$",
   "metadata": {
    "tags": [],
    "cell_id": "00001-cd3bc381-aba7-4374-a0c5-45caa4ff62db",
    "deepnote_cell_type": "markdown"
   }
  },
  {
   "cell_type": "markdown",
   "source": "Q1. `Black-Scholes` model:\n\n$\\sigma_{LN}$ is constant and determined by the at-the-money option (i.e. S = K).\n\nAssuming that we are evaluating an exotic European derivative using SPX as underlying, S = 3662.45 on 1-Dec-2020, sigma at K = 3660 (nearest strike price) is 0.197 (as per Part 2).",
   "metadata": {
    "tags": [],
    "cell_id": "00002-1784360a-fb4d-4eff-bac6-6d4b206e2dab",
    "deepnote_cell_type": "markdown"
   }
  },
  {
   "cell_type": "markdown",
   "source": "$\nS_T = S_0 e^{(r - \\frac{\\sigma^2}{2})T + \\sigma W_T}\n$\n\nSubstituting above into Payoff function,\n\n$\nh(S_T) = S_0^{1/3} e^{((r- \\frac{\\sigma^2}{2})T + \\sigma W_T) \\frac{1}{3}} + 1.5 log(S_0) + 1.5(r - \\frac{\\sigma^2}{2})T + 1.5 \\sigma W_T + 10.0\n$\n\n$\n\\Rightarrow E^*[h(S_T)] = [S_0 e^{rT - \\frac{\\sigma^2 T}{3}}]^\\frac{1}{3} + 1.5log(S_0) + 1.5(r - \\frac{\\sigma^2}{2}) T + 10.0\n$\n\n$\nV_0 = e^{-rT} E^*[h(S_T)]\n$",
   "metadata": {
    "tags": [],
    "cell_id": "00003-5fb1d017-126d-4ba1-96f5-af48fc266371",
    "deepnote_cell_type": "markdown"
   }
  },
  {
   "cell_type": "code",
   "metadata": {
    "tags": [],
    "cell_id": "00005-a10bade6-2b03-446e-a2dd-bb4b96e8e4c7",
    "deepnote_to_be_reexecuted": false,
    "source_hash": "168f0d6e",
    "execution_start": 1636712625115,
    "execution_millis": 3,
    "deepnote_cell_type": "code"
   },
   "source": "# Define parameters for Black-Scholes\nS = 3662.45\nT = 0.1232876712328767 ### 45/365\nr = 0.0020510755555555554 ### based on the interpolated r from Part 2\nsigma = 0.197 ### based on implied volatilites of SPX plotted in Part 2; at K=3660\n\nBlackScholesExoticPrice(S, r, T, sigma)  #### to double check",
   "outputs": [
    {
     "output_type": "execute_result",
     "execution_count": 13,
     "data": {
      "text/plain": "37.703496294931355"
     },
     "metadata": {}
    }
   ],
   "execution_count": null
  },
  {
   "cell_type": "code",
   "metadata": {
    "tags": [],
    "cell_id": "00004-4e44d946-cccf-471f-a98a-4e3275dac9d1",
    "deepnote_to_be_reexecuted": false,
    "source_hash": "ca071748",
    "execution_start": 1636709847305,
    "execution_millis": 3,
    "deepnote_cell_type": "code"
   },
   "source": "def BlackScholesExoticPrice(S, r, T, sigma):\n    expPayoff = (S * np.exp(T*(r - sigma**2/3))) ** (1/3) + 1.5*np.log(S) + 1.5*(r-sigma**2/2)*T + 10.0\n    price = np.exp(-r*T)*expPayoff \n    return price\n\nBlackScholesExoticPrice(S, r, T, sigma)",
   "outputs": [
    {
     "output_type": "execute_result",
     "execution_count": 4,
     "data": {
      "text/plain": "37.703496294931355"
     },
     "metadata": {}
    }
   ],
   "execution_count": null
  },
  {
   "cell_type": "code",
   "metadata": {
    "tags": [],
    "cell_id": "00006-1e018e56-899d-478e-96e7-8a788d29b0da",
    "deepnote_to_be_reexecuted": false,
    "source_hash": "1bcb5e03",
    "execution_start": 1636710961738,
    "execution_millis": 23,
    "deepnote_cell_type": "code"
   },
   "source": "# test for Black-Scholes using static replication\nS = 3662.45\nT = 0.1232876712328767 ### 45/365\nr = 0.0020510755555555554 ### based on the interpolated r from Part 2\nsigma = 0.197 ### based on implied volatilites of SPX plotted in Part 2; at K=3660\nF = S * np.exp(r*T)\n\ndef BlackScholesCall(S, K, r, sigma, T):\n    d1 = (np.log(S/K)+(r+sigma**2/2)*T) / (sigma*np.sqrt(T))\n    d2 = d1 - sigma*np.sqrt(T)\n    return S*norm.cdf(d1) - K*np.exp(-r*T)*norm.cdf(d2)\n\ndef BlackScholesPut(S, K, r, sigma, T):\n    return BlackScholesCall(S, K, r, sigma, T) - S + K*np.exp(-r*T)\n\ndef callintegrand(K, S, r, T, sigma):\n    price = BlackScholesCall(S, K, r, sigma, T) * ((-2/9)*(K**(-5/3)) - (1.5)*(1/K**2)) \n    return price\n\ndef putintegrand(K, S, r, T, sigma):\n    price = BlackScholesPut(S, K, r, sigma, T) * ((-2/9)*(K**(-5/3)) - (1.5)*(1/K**2)) \n    return price\n\nI_put = quad(lambda x: putintegrand(x, S, r, T, sigma), 0.0, F)\nI_call = quad(lambda x: callintegrand(x, S, r, T, sigma), F, 5000) \n\nBlackScholesExoticPriceStatic = np.exp(-r*T)*((F**(1/3)) + 1.5*np.log(F) + 10) + I_put[0] + I_call[0] \nBlackScholesExoticPriceStatic",
   "outputs": [
    {
     "output_type": "execute_result",
     "execution_count": 5,
     "data": {
      "text/plain": "37.70349629793738"
     },
     "metadata": {}
    }
   ],
   "execution_count": null
  },
  {
   "cell_type": "markdown",
   "source": "Q2. `Bachelier Model`: \n\n",
   "metadata": {
    "tags": [],
    "cell_id": "00006-f922d763-1d0f-4350-a04f-9e1f54b7973f",
    "deepnote_cell_type": "markdown"
   }
  },
  {
   "cell_type": "markdown",
   "source": "$\nS_T = S_0 + \\sigma W_T\n$\n\nSubstituting above into Payoff function,\n\n$\nh(S_T) = (S_0 +\\sigma W_T)^{1/3} + 1.5 log(S_0 + \\sigma W_T) + 10.0\n$\n",
   "metadata": {
    "tags": [],
    "cell_id": "00009-bcfbbe0f-31f9-455c-9241-d3a66a1a98a2",
    "deepnote_cell_type": "markdown"
   }
  },
  {
   "cell_type": "code",
   "source": "def BachelierIntegrand(x, sigma, T, S_0):\n    S_T = S_0 + sigma*(T**0.5)*x\n    expPayoff = (S_T)**(1/3) + 1.5*np.log(S_T) + 10.0\n    f_x = np.exp(-x**2 / 2) / ((2*np.pi)**0.5)\n    return expPayoff * f_x\n\nI = quad(lambda x: BachelierIntegrand(x, 0.197, 0.1232876712328767, 3662.45), 0, 5000)\nBachelierExoticPrice = np.exp(-r*T) * 2*I[0]\n\nBachelierExoticPrice",
   "metadata": {
    "tags": [],
    "cell_id": "00010-634cc8c5-c347-4338-935a-bd00a4e6d06b",
    "deepnote_to_be_reexecuted": false,
    "source_hash": "b19fa88c",
    "execution_start": 1636714720131,
    "execution_millis": 5,
    "deepnote_cell_type": "code"
   },
   "outputs": [
    {
     "output_type": "execute_result",
     "execution_count": 28,
     "data": {
      "text/plain": "37.7136968236079"
     },
     "metadata": {}
    }
   ],
   "execution_count": null
  },
  {
   "cell_type": "markdown",
   "source": "$$\\int_{-\\infty}^{\\infty} x^\\frac{1}{3}\\frac{1}{\\sigma\\sqrt{2T\\pi}}e^{-\\frac{1}{2}(\\frac{x-S_0}{\\sigma\\sqrt{T}})^2} \\; dx$$",
   "metadata": {
    "tags": [],
    "cell_id": "00010-862c1d71-3f17-44a6-a1d3-9f099147ef2a",
    "deepnote_cell_type": "markdown"
   }
  },
  {
   "cell_type": "code",
   "metadata": {
    "tags": [],
    "cell_id": "00011-ee9df802-bf33-415c-93bd-66f77f938ec7",
    "deepnote_to_be_reexecuted": true,
    "source_hash": "29935e70",
    "deepnote_cell_type": "code"
   },
   "source": "def integrand1(x, sigma, T, S):\n    g_x = np.log(x)\n    f_x = 1 / (sigma * (2 * T * np.pi) ** 0.5) * np.exp(-0.5 * ((x - S) / (sigma * T ** 0.5)) ** 2)\n    return g_x * f_x\n\nI = quad(lambda x: integrand1(x, 0.197, 0.1232876712328767, 3662.45), 0, 5000)\nprint('The integral is: %.9f' % I[0])",
   "execution_count": null,
   "outputs": []
  },
  {
   "cell_type": "code",
   "metadata": {
    "tags": [],
    "cell_id": "00007-a2f08621-4b2a-4437-b964-2e37591fe913",
    "deepnote_to_be_reexecuted": false,
    "source_hash": "c2639a70",
    "execution_start": 1636714113067,
    "execution_millis": 9,
    "deepnote_cell_type": "code"
   },
   "source": "# Define parameters for Bachelier\nS = 3662.45\nT = 0.1232876712328767 ### 45/365\nr = 0.0020510755555555554 ### based on the interpolated r from Part 2\nsigma = 0.197 ### based on implied volatilites of SPX plotted in Part 2; at K=3660\nF = S * np.exp(r*T)\n\ndef BachelierCall(S, K, r, sigma, T):\n    temp = (S - K)/ (sigma *np.sqrt(T))\n    return np.exp(-r*(T)) * ((S-K)*norm.cdf(temp) + sigma*np.sqrt(T)*norm.pdf(temp))\n\ndef BachelierPut(S, K, r, sigma,T):\n    temp = (-S + K)/ (sigma *np.sqrt(T))\n    return np.exp(-r*(T)) * ((K - S)*norm.cdf(temp) + sigma*np.sqrt(T)*norm.pdf(temp))\n\ndef callintegrand(K, S, r, T, sigma):\n    price = BachelierCall(S, K, r, sigma, T) * ((-2/9)*(K**(-5/3)) - (1.5)*(1/K**2)) \n    return price\n\ndef putintegrand(K, S, r, T, sigma):\n    price = BachelierPut(S, K, r, sigma, T) * ((-2/9)*(K**(-5/3)) - (1.5)*(1/K**2)) \n    return price\n\nI_put = quad(lambda x: putintegrand(x, S, r, T, sigma), 0.0, F)\nI_call = quad(lambda x: callintegrand(x, S, r, T, sigma), F, 5000) \n\nBachelierExoticPrice = np.exp(-r*T)*((F**(1/3)) + 1.5*np.log(F) + 10) + I_put[0] + I_call[0] \nBachelierExoticPrice",
   "outputs": [
    {
     "output_type": "execute_result",
     "execution_count": 24,
     "data": {
      "text/plain": "37.71527504035332"
     },
     "metadata": {}
    }
   ],
   "execution_count": null
  },
  {
   "cell_type": "markdown",
   "source": "Q3. Static replication of European payoff using `SABR Model` (calibrated in Part 2 of project): \n\nTo value the exotic European derivative, we just need to substitute the $\\sigma_{SABR}$ into the Black-Scholes formula. ",
   "metadata": {
    "tags": [],
    "cell_id": "00008-e61fd729-d6c8-4aee-a124-faf39a614164",
    "deepnote_cell_type": "markdown"
   }
  },
  {
   "cell_type": "markdown",
   "source": "`Payoff function`\n\n$\nh(S_T) = S_T^{\\frac{1}{3}} + 1.5log(S_T) + 10.0\n$\n\n$\n\\Rightarrow h(F) = F^{\\frac{1}{3}} + 1.5 * log(F) + 10.0\n$\n, where $F = S_0 e^{rT}$\n\n$\nh'(S_T) = \\frac{1}{3} S_T^{-\\frac{2}{3}} + 1.5\\frac{1}{S_T}\n$\n\n$\nh''(S_T) = -\\frac{2}{9} S_T^{-\\frac{5}{3}} - 1.5S_T^{-2}\n$\n\n$\n\\Rightarrow h''(K) = -\\frac{2}{9} K^{-\\frac{5}{3}} - 1.5K^{-2}\n$\n",
   "metadata": {
    "tags": [],
    "cell_id": "00000-f61aaf50-1166-4a61-a93c-3c20749d48ed",
    "deepnote_cell_type": "markdown"
   }
  },
  {
   "cell_type": "markdown",
   "source": "For any twice-differentiable payoff $h(S_T)$, Breeden-Litzenberger states that\n\n$\nV_0 = e^{-rT}h(F) + \\int_0^{F}h''(K)P(K)\\;dK + \\int_{F}^{\\infty}h''(K)C(K)\\;dK\n$\n\n$\nV_0 = e^{-rT}(F^{\\frac{1}{3}} + 1.5 * \\log(F) + 10.0) + \\int_0^{F}(-\\frac{2}{9}K^{-\\frac{5}{3}} - 1.5K^{-2})P(K)\\;dK + \\int_F^\\infty(-\\frac{2}{9}K^{-\\frac{5}{3}} - 1.5K^{-2})C(K)\\;dK\n$",
   "metadata": {
    "tags": [],
    "cell_id": "00003-16d28b5f-b1a4-4433-8f22-abf3812ecd58",
    "deepnote_cell_type": "markdown"
   }
  },
  {
   "cell_type": "markdown",
   "source": "$V_0 = e^{-rT}((S_0e^{rT})^{\\frac{1}{3}} + 1.5 * \\log(S_0e^{rT}) + 10.0) + \\int_0^{(S_0e^{rT})}(-\\frac{2}{9}K^{-\\frac{5}{3}} - 1.5K^{-2})P(K)\\;dK + \\int_F^\\infty(-\\frac{2}{9}K^{-\\frac{5}{3}} - 1.5K^{-2})C(K)\\;dK$",
   "metadata": {
    "tags": [],
    "cell_id": "00004-143fa33a-690c-4f8d-b870-1fd2b7330540",
    "deepnote_cell_type": "markdown"
   }
  },
  {
   "cell_type": "code",
   "metadata": {
    "tags": [],
    "cell_id": "00012-c32f37dd-7fe5-4ddf-ba5d-93a83fb9b5d9",
    "deepnote_to_be_reexecuted": false,
    "source_hash": "a4e43590",
    "execution_start": 1636714351327,
    "execution_millis": 0,
    "deepnote_cell_type": "code"
   },
   "source": "#SABR function\n\ndef SABR(F, K, T, alpha, beta, rho, nu):\n    X = K\n    # if K is at-the-money-forward\n    if abs(F - K) < 1e-12:\n        numer1 = (((1 - beta)**2)/24)*alpha*alpha/(F**(2 - 2*beta))\n        numer2 = 0.25*rho*beta*nu*alpha/(F**(1 - beta))\n        numer3 = ((2 - 3*rho*rho)/24)*nu*nu\n        VolAtm = alpha*(1 + (numer1 + numer2 + numer3)*T)/(F**(1-beta))\n        sabrsigma = VolAtm\n    else:\n        z = (nu/alpha)*((F*X)**(0.5*(1-beta)))*np.log(F/X)\n        zhi = np.log((((1 - 2*rho*z + z*z)**0.5) + z - rho)/(1 - rho))\n        numer1 = (((1 - beta)**2)/24)*((alpha*alpha)/((F*X)**(1 - beta)))\n        numer2 = 0.25*rho*beta*nu*alpha/((F*X)**((1 - beta)/2))\n        numer3 = ((2 - 3*rho*rho)/24)*nu*nu\n        numer = alpha*(1 + (numer1 + numer2 + numer3)*T)*z\n        denom1 = ((1 - beta)**2/24)*(np.log(F/X))**2\n        denom2 = (((1 - beta)**4)/1920)*((np.log(F/X))**4)\n        denom = ((F*X)**((1 - beta)/2))*(1 + denom1 + denom2)*zhi\n        sabrsigma = numer/denom\n\n    return sabrsigma",
   "outputs": [],
   "execution_count": null
  },
  {
   "cell_type": "code",
   "metadata": {
    "tags": [],
    "cell_id": "00015-39cebed3-b3de-403b-afdc-2ebfb47c2f16",
    "deepnote_to_be_reexecuted": false,
    "source_hash": "5a01cd7e",
    "execution_start": 1636714356664,
    "execution_millis": 94,
    "deepnote_cell_type": "code"
   },
   "source": "def SABRCall(S, K, r, alpha, beta, rho, nu, T):\n    sabr_vol = SABR(S*np.exp(r*T), K, T, alpha, beta, rho, nu)\n    return BlackScholesCall(S, K, r, sabr_vol, T)\n\n\ndef SABRPut(S, K, r, alpha, beta, rho, nu, T):\n    sabr_vol = SABR(S*np.exp(r*T), K, T, alpha, beta, rho, nu)\n    return BlackScholesPut(S, K, r, sabr_vol, T)\n\n\ndef sabrcallintegrand(K, S, r, T, alpha, beta, rho, nu):\n    price = SABRCall(S, K, r, alpha, beta, rho, nu, T) / K**2\n    return price\n\n\ndef sabrputintegrand(K, S, r, T, alpha, beta, rho, nu):\n    price = SABRPut(S, K, r, alpha, beta, rho, nu, T) / K**2\n    return price\n\n# Calibrated SABR model parameters based on Part 2\nalpha = 1.817 \nbeta = 0.7 \nrho = -0.404 \nnu = 2.790\n\n# Define remaining parameters\nS = 3662.45\nT = 0.1232876712328767 ### 45/365\nr = 0.0020510755555555554 ### based on the interpolated r from Part 2\nF = S * np.exp(r*T)\n\n\nI_put = quad(lambda x: sabrputintegrand(x, S, r, T, alpha, beta, rho, nu), 1e-6, F)\nI_call = quad(lambda x: sabrcallintegrand(x, S, r, T, alpha, beta, rho, nu), F, 5000)\nsabrExoticPrice = np.exp(-r*T)*((F**(1/3)) + 1.5*np.log(F) + 10) + I_put[0] + I_call[0] \nsabrExoticPrice\n",
   "outputs": [
    {
     "output_type": "execute_result",
     "execution_count": 26,
     "data": {
      "text/plain": "37.718442900958145"
     },
     "metadata": {}
    }
   ],
   "execution_count": null
  },
  {
   "cell_type": "markdown",
   "source": "### Other workings below",
   "metadata": {
    "tags": [],
    "is_collapsed": true,
    "cell_id": "00014-5e5d525f-b994-4338-9de7-344676ea3f6c",
    "deepnote_cell_type": "text-cell-h3"
   }
  },
  {
   "cell_type": "code",
   "metadata": {
    "tags": [],
    "cell_id": "00005-038a2546-9386-4a8d-9191-cb4f3dadda2b",
    "deepnote_to_be_reexecuted": true,
    "source_hash": "ccf8fcce",
    "deepnote_cell_type": "code"
   },
   "source": "def BlackScholesPrice(S, K, r, sigma, T):\n    # e^(-rT)h(F)\n    F = S * np.exp(r * T)\n    term1 = np.exp(-r * T) * (F ** (1/3) + 1.5 * np.log(F) + 10.0)\n\n    # 1st integral\n    integrand1 = ((-2/9) * (x ** (-5 /3)) - 1.5 * x ** (-2)) * BlackScholesPut(S, K, r, sigma, T)\n    # figure out how to integrate haha\n    term2 = integrate_put(integrand1)\n\n    # 2nd integral\n    integrand2 = ((-2/9) * (x ** (-5 /3)) - 1.5 * x ** (-2)) * BlackScholesCall(S, K, r, sigma, T)\n    term3 = integrate_call(integrand2)\n\n    return term1 + term2 + term3",
   "execution_count": null,
   "outputs": []
  },
  {
   "cell_type": "markdown",
   "source": "\"Model-free\" integrated variance \n\n$\n\\sigma_{MF}^2 T = E[\\int_{0}^{T} \\sigma_t^2 dt]\n= \\int_{0}^{T} \\sigma^2 dt\n= \\sigma^2 T\n$",
   "metadata": {
    "tags": [],
    "cell_id": "00003-9d0bf476-839a-4bd8-aef9-7d0a93f87314",
    "deepnote_cell_type": "markdown"
   }
  },
  {
   "cell_type": "markdown",
   "source": "$   \n\\mathbb{E}\\left[\\int_0^T\\sigma_t^2 \\;dt\\right] = 2e^{rT} \\left(\\int_0^{F}\\frac{P(K)}{K^2}\\;dK + \\int_{F}^{\\infty}\\frac{C(K)}{K^2}\\;dK\\right)\n$",
   "metadata": {
    "tags": [],
    "cell_id": "00009-80b621d6-1d04-472c-96c9-777ad8669bff",
    "deepnote_cell_type": "markdown"
   }
  },
  {
   "cell_type": "code",
   "metadata": {
    "tags": [],
    "cell_id": "00007-d7338c4a-a6a6-475f-8b9f-7744ec05acf7",
    "deepnote_to_be_reexecuted": true,
    "source_hash": "9a080544",
    "execution_start": 1635188228185,
    "execution_millis": 1,
    "deepnote_cell_type": "code"
   },
   "source": "# to determine sigma \n\ndef BlackScholesCall(S, K, r, sigma, T):\n    d1 = (np.log(S/K)+(r+sigma**2/2)*T) / (sigma*np.sqrt(T))\n    d2 = d1 - sigma*np.sqrt(T)\n    return S*norm.cdf(d1) - K*np.exp(-r*T)*norm.cdf(d2)\n\n\ndef BlackScholesPut(S, K, r, sigma, T):\n    return BlackScholesCall(S, K, r, sigma, T) - S + K*np.exp(-r*T)\n\ndef callintegrand(K, S, r, T, sigma):\n    price = BlackScholesCall(S, K, r, sigma, T) / K**2 \n    return price\n\n\ndef putintegrand(K, S, r, T, sigma):\n    price = BlackScholesPut(S, K, r, sigma, T) / K**2\n    return price",
   "execution_count": null,
   "outputs": []
  },
  {
   "cell_type": "code",
   "metadata": {
    "tags": [],
    "cell_id": "00007-b2d00b86-56c1-4dfa-8745-8856f4eee5f4",
    "deepnote_to_be_reexecuted": true,
    "source_hash": "967b4fa",
    "execution_start": 1635188521478,
    "execution_millis": 136,
    "deepnote_cell_type": "code"
   },
   "source": "# to test with parameters \n\nS = 100\nr = 0.04\nT = 1.0\nsigma = 0.5\nF = S * np.exp(r*T)\n\nI_put = quad(lambda x: putintegrand(x, S, r, T, sigma), 0.0, F)\nI_call = quad(lambda x: callintegrand(x, S, r, T, sigma), F, 5000) \nE_var = 2*np.exp(r*T)*(I_put[0] + I_call[0])\nprint('The expected integrated variance is: %.9f' % E_var)\n",
   "execution_count": null,
   "outputs": [
    {
     "name": "stdout",
     "text": "The expected integrated variance is: 0.250000000\n",
     "output_type": "stream"
    }
   ]
  },
  {
   "cell_type": "code",
   "metadata": {
    "tags": [],
    "cell_id": "00004-0231181f-2eb0-495d-8c00-ed65b0f2bd4c",
    "deepnote_to_be_reexecuted": true,
    "source_hash": "e7f23b9",
    "execution_start": 1635326327434,
    "execution_millis": 2,
    "deepnote_cell_type": "code"
   },
   "source": "# 1: Black-Scholes Model\n# to determine price of derivative\n\n\nS = 3662.45\nT = 0.1232876712328767 ### 45/365\nr = 0.0020510755555555554 ### based on the interpolated r from Part 2\nsigma = 0.197 ### based on implied volatilites of SPX plotted in Part 2; at K=3660\nF = S * np.exp(r*T)\n\ndef BlackScholesCall(S, K, r, sigma, T):\n    d1 = (np.log(S/K)+(r+sigma**2/2)*T) / (sigma*np.sqrt(T))\n    d2 = d1 - sigma*np.sqrt(T)\n    return S*norm.cdf(d1) - K*np.exp(-r*T)*norm.cdf(d2)\n\n\ndef BlackScholesPut(S, K, r, sigma, T):\n    return BlackScholesCall(S, K, r, sigma, T) - S + K*np.exp(-r*T)\n\ndef BScallintegrand(K, S, r, T, sigma):\n    price = BlackScholesCall(S, K, r, sigma, T) * ((-2/9) * K**(-5/3) - 1.5*(1/K**2)) \n    return price\n\ndef BSputintegrand(K, S, r, T, sigma):\n    price = BlackScholesPut(S, K, r, sigma, T) * ((-2/9) * K**(-5/3) - 1.5*(1/K**2))\n    return price\n\nI_put = quad(lambda x: BSputintegrand(x, S, r, T, sigma), 0.0, F)\nI_call = quad(lambda x: BScallintegrand(x, S, r, T, sigma), F, 5000)\nE_var = 2*np.exp(r*T)*(I_put[0] + I_call[0])\nprint('The expected integrated variance is: %.9f' % E_var)",
   "execution_count": null,
   "outputs": [
    {
     "name": "stdout",
     "text": "The expected integrated variance is: -0.023563443\n",
     "output_type": "stream"
    }
   ]
  },
  {
   "cell_type": "code",
   "metadata": {
    "tags": [],
    "cell_id": "00023-0a5e3b7b-c641-469f-90db-14c5c2c4267b",
    "deepnote_to_be_reexecuted": true,
    "source_hash": "584dff0c",
    "deepnote_cell_type": "code"
   },
   "source": "I_put = quad(lambda x: BSputintegrand(x, S, r, T, sigma), 0.0, F)\nI_call = quad(lambda x: BScallintegrand(x, S, r, T, sigma), F, 5000) \n\nV_0 = np.exp(-r*T)*((F**(-1/3)) + 1.5*np.log(F) + 10) + I_put[0] + I_call[0] \nV_0",
   "execution_count": null,
   "outputs": []
  },
  {
   "cell_type": "code",
   "metadata": {
    "tags": [],
    "cell_id": "00005-c06b1e51-d96e-49c4-a16a-6a6141ac6df6",
    "deepnote_to_be_reexecuted": true,
    "source_hash": "1fdc21ad",
    "deepnote_cell_type": "code"
   },
   "source": "\nS = 100.0\nr = 0.05\nT = 1.0\nsigma = 0.4\nF = S * np.exp(r*T)\nI_put = quad(lambda x: putintegrand(x, S, r, T, sigma), 0.0, F)\nI_call = quad(lambda x: callintegrand(x, S, r, T, sigma), F, 5000)\nE_var = 2*np.exp(r*T)*(I_put[0] + I_call[0])\nprint('The expected integrated variance is: %.9f' % E_var)",
   "execution_count": null,
   "outputs": []
  },
  {
   "cell_type": "markdown",
   "source": "Under the Black-Scholes Model, \n\n$\nS_T = S_0 e^{(r-\\frac{\\sigma^2}{2})T + \\sigma W_T}\n$\n\nValuation formula: \n\n$V_0 = e^{-rT} E[payoff]$\n\nsubstituting $S_T$ into payoff function, \n\n$V_0 = e^{-rT} E[S_0^{1/3}e^{(r-\\frac{\\sigma^2}{2})\\frac{T}{3} + \\frac{\\sigma W_T}{3}} + 1.5logS_0 + 1.5(r - \\frac{\\sigma^2}{2})T +1.5\\sigma W_T +10]$\n\n$V_0 = e^{-rT} \\left[ S_0^{1/3}e^{\\frac{rT}{3}} + 1.5logS_0 + 1.5(r - \\frac{\\sigma^2}{2})T + 10 \\right]$\n\n$V_0 = S_0^{1/3} e^{\\frac{-2rT}{3}} + 1.5 e^{-rT} logS_0 + 1.5 e^{-rT} (r - \\frac{\\sigma^2}{2})T + 10e^{-rT} $",
   "metadata": {
    "tags": [],
    "cell_id": "00001-1d1173b9-e2be-4c2d-a033-7ca4b5e183f2",
    "deepnote_cell_type": "markdown"
   }
  },
  {
   "cell_type": "markdown",
   "source": "Under the Bachelier Model, \n\n$\nS_T = S_0 + \\sigma W_T\n$\n\nValuation formula: \n\n$V_0 = e^{-rT} E[payoff]$\n\nsubstituting $S_T$ into payoff function,\n\n$V_0 = e^{-rT} E[(S_0 + \\sigma W_T)^{1/3} + 1.5 log(S_0 + \\sigma W_T) + 10]$\n\n",
   "metadata": {
    "tags": [],
    "cell_id": "00002-e8802f5b-a30e-49b8-907c-8a820d063890",
    "deepnote_cell_type": "markdown"
   }
  },
  {
   "cell_type": "code",
   "metadata": {
    "tags": [],
    "cell_id": "00000-d16745e4-516d-49ae-8e42-2c7341b0d0cb",
    "deepnote_to_be_reexecuted": true,
    "source_hash": "b623e53d",
    "deepnote_cell_type": "code"
   },
   "source": "",
   "execution_count": null,
   "outputs": []
  },
  {
   "cell_type": "markdown",
   "source": "For any twice-differentiable payoff $h(S_T)$, Breeden-Litzenberger states that\n\n$\nV_0 = e^{-rT}h(F) + \\int_0^{F}h''(K)P(K)\\;dK + \\int_{F}^{\\infty}h''(K)C(K)\\;dK\n$\n  \nTo implement Breeden-Litzenberger formula (or static replication in general) in Python, we need to be able to handle numerical integration for the put/call integrals.\n\nWe need to use numerical integration to evaluate the formula. This can be done in Python easily. For example, consider the integral\n\n$\n\\int_0^1 x^2 \\; dx = \\frac{1}{3}\n$\n\nWe can evaluate it in Python as follows:",
   "metadata": {
    "cell_id": "00000-8b790bf6-50be-4ead-b151-10db5c7a6a91",
    "deepnote_cell_type": "markdown"
   }
  },
  {
   "cell_type": "code",
   "metadata": {
    "cell_id": "00001-67d57584-dd0d-4259-b1d7-48c7b694bafb",
    "deepnote_to_be_reexecuted": true,
    "source_hash": "c3387a",
    "deepnote_cell_type": "code"
   },
   "source": "from scipy.integrate import quad\n\n\ndef integrand(x):\n    return x**2\n\n\nI = quad(integrand, 0.0, 1.0)\nprint('The integral is: %.9f' % I[0])\n",
   "execution_count": null,
   "outputs": [
    {
     "name": "stdout",
     "output_type": "stream",
     "text": "The integral is: 0.333333333\n"
    }
   ]
  },
  {
   "cell_type": "markdown",
   "source": "We can test our static replication implementation with\n\n$\n\\mathbb{E}\\left[\\int_0^T\\sigma_t^2 \\;dt\\right] = 2e^{rT} \\left(\\int_0^{F}\\frac{P(K)}{K^2}\\;dK + \\int_{F}^{\\infty}\\frac{C(K)}{K^2}\\;dK\\right)\n$\n\nSuppose we assume that market is following Black76 model, then we have",
   "metadata": {
    "cell_id": "00002-776b9daf-f4dd-4320-80f6-bd4be1687fc0",
    "deepnote_cell_type": "markdown"
   }
  },
  {
   "cell_type": "code",
   "metadata": {
    "cell_id": "00003-2d8180e2-a538-4f85-b6a5-c52d77588728",
    "deepnote_to_be_reexecuted": true,
    "source_hash": "e3d29b90",
    "deepnote_cell_type": "code"
   },
   "source": "import numpy as np\nfrom scipy.stats import norm\n\n\ndef BlackScholesCall(S, K, r, sigma, T):\n    d1 = (np.log(S/K)+(r+sigma**2/2)*T) / (sigma*np.sqrt(T))\n    d2 = d1 - sigma*np.sqrt(T)\n    return S*norm.cdf(d1) - K*np.exp(-r*T)*norm.cdf(d2)\n\n\ndef BlackScholesPut(S, K, r, sigma, T):\n    return BlackScholesCall(S, K, r, sigma, T) - S + K*np.exp(-r*T)\n\n\ndef callintegrand(K, S, r, T, sigma):\n    price = BlackScholesCall(S, K, r, sigma, T) / K**2\n    return price\n\n\ndef putintegrand(K, S, r, T, sigma):\n    price = BlackScholesPut(S, K, r, sigma, T) / K**2\n    return price\n\n\nS = 100.0\nr = 0.05\nT = 1.0\nsigma = 0.4\nF = S * np.exp(r*T)\nI_put = quad(lambda x: putintegrand(x, S, r, T, sigma), 0.0, F)\nI_call = quad(lambda x: callintegrand(x, S, r, T, sigma), F, 5000)\nE_var = 2*np.exp(r*T)*(I_put[0] + I_call[0])\nprint('The expected integrated variance is: %.9f' % E_var)\n",
   "execution_count": null,
   "outputs": [
    {
     "name": "stdout",
     "output_type": "stream",
     "text": "The expected integrated variance is: 0.160000000\n"
    }
   ]
  },
  {
   "cell_type": "markdown",
   "source": "Since we are using Black76 model in the above, we can cross-check our implementation with the integrated variance based on Black76 model, since under Black76 (or Black-Scholes) model, volatility is deterministic.\n  \nHence we have\n\\begin{equation*}\n  \\begin{split}\n    \\mathbb{E}\\left[ \\int_0^T \\sigma_t^2 \\; dt \\right] &= \\int_0^T \\sigma^2 \\; dt \\\\\n    &= \\sigma^2T\n  \\end{split}\n\\end{equation*}\n\nSo for instance if $\\sigma=0.4$ and $T=1$, then the integrated variance should be $\\sigma^2T = 0.16$.\n\nOnce tested, we should replace BlackScholes with SABR model in order to accurately capture the implied volatility smiile/skew in the option market.",
   "metadata": {
    "cell_id": "00004-84efb35f-787a-4614-a577-142da5061b36",
    "deepnote_cell_type": "markdown"
   }
  },
  {
   "cell_type": "code",
   "metadata": {
    "cell_id": "00005-8025939b-52c1-4c5a-a8ce-f10b2ab299c0",
    "deepnote_to_be_reexecuted": true,
    "source_hash": "d58fde23",
    "execution_start": 1634715608867,
    "execution_millis": 263,
    "deepnote_cell_type": "code"
   },
   "source": "V = np.exp(rT)*E(payoff)",
   "execution_count": null,
   "outputs": [
    {
     "output_type": "error",
     "ename": "NameError",
     "evalue": "name 'np' is not defined",
     "traceback": [
      "\u001b[0;31m---------------------------------------------------------------------------\u001b[0m",
      "\u001b[0;31mNameError\u001b[0m                                 Traceback (most recent call last)",
      "\u001b[0;32m<ipython-input-1-92822280eff6>\u001b[0m in \u001b[0;36m<module>\u001b[0;34m\u001b[0m\n\u001b[0;32m----> 1\u001b[0;31m \u001b[0mV\u001b[0m \u001b[0;34m=\u001b[0m \u001b[0mnp\u001b[0m\u001b[0;34m.\u001b[0m\u001b[0mexp\u001b[0m\u001b[0;34m(\u001b[0m\u001b[0mrT\u001b[0m\u001b[0;34m)\u001b[0m\u001b[0;34m*\u001b[0m\u001b[0mE\u001b[0m\u001b[0;34m(\u001b[0m\u001b[0mpayoff\u001b[0m\u001b[0;34m)\u001b[0m\u001b[0;34m\u001b[0m\u001b[0;34m\u001b[0m\u001b[0m\n\u001b[0m",
      "\u001b[0;31mNameError\u001b[0m: name 'np' is not defined"
     ]
    }
   ]
  },
  {
   "cell_type": "code",
   "metadata": {
    "cell_id": "00006-4999e821-16b6-4d92-8de5-3341f650bb53",
    "deepnote_to_be_reexecuted": true,
    "source_hash": "b623e53d",
    "deepnote_cell_type": "code"
   },
   "source": "",
   "execution_count": null,
   "outputs": []
  },
  {
   "cell_type": "markdown",
   "source": "<a style='text-decoration:none;line-height:16px;display:flex;color:#5B5B62;padding:10px;justify-content:end;' href='https://deepnote.com?utm_source=created-in-deepnote-cell&projectId=84dba4f4-47dd-4672-95f1-e2f4f6eed8bc' target=\"_blank\">\n<img alt='Created in deepnote.com' style='display:inline;max-height:16px;margin:0px;margin-right:7.5px;' src='data:image/svg+xml;base64,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' > </img>\nCreated in <span style='font-weight:600;margin-left:4px;'>Deepnote</span></a>",
   "metadata": {
    "tags": [],
    "created_in_deepnote_cell": true,
    "deepnote_cell_type": "markdown"
   }
  }
 ],
 "nbformat": 4,
 "nbformat_minor": 2,
 "metadata": {
  "kernelspec": {
   "display_name": "Python 3",
   "language": "python",
   "name": "python3"
  },
  "language_info": {
   "codemirror_mode": {
    "name": "ipython",
    "version": 3
   },
   "file_extension": ".py",
   "mimetype": "text/x-python",
   "name": "python",
   "nbconvert_exporter": "python",
   "pygments_lexer": "ipython3",
   "version": "3.8.10"
  },
  "deepnote_notebook_id": "e05d03a0-c750-4d31-a7aa-48f7983f8e64",
  "deepnote": {},
  "deepnote_execution_queue": []
 }
}